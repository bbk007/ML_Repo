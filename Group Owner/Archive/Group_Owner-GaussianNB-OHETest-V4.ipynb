{
 "cells": [
  {
   "cell_type": "code",
   "execution_count": 1,
   "metadata": {},
   "outputs": [],
   "source": [
    "#https://medium.com/datadriveninvestor/choosing-the-best-algorithm-for-your-classification-model-7c632c78f38f\n",
    "#https://scikit-learn.org/stable/auto_examples/classification/plot_classifier_comparison.html\n",
    "#https://www.dataquest.io/blog/sci-kit-learn-tutorial/\n",
    "#https://datascience.stackexchange.com/questions/33256/how-to-apply-machine-learning-model-to-new-dataset"
   ]
  },
  {
   "cell_type": "code",
   "execution_count": 2,
   "metadata": {},
   "outputs": [],
   "source": [
    "from fastai.tabular import *\n",
    "import os\n",
    "import pandas as pd \n",
    "import numpy as np\n",
    "from sklearn.metrics import accuracy_score, confusion_matrix\n",
    "from sklearn.ensemble import RandomForestClassifier\n",
    "from sklearn.naive_bayes import GaussianNB\n",
    "from sklearn.naive_bayes import ComplementNB\n",
    "from sklearn import svm, tree\n",
    "import xgboost\n",
    "from sklearn.model_selection import train_test_split\n",
    "from sklearn import preprocessing\n",
    "from sklearn.neighbors import KNeighborsClassifier\n",
    "\n",
    "from sklearn import model_selection\n",
    "from pandas.plotting import scatter_matrix\n",
    "import matplotlib.pyplot as plt\n"
   ]
  },
  {
   "cell_type": "code",
   "execution_count": 3,
   "metadata": {},
   "outputs": [],
   "source": [
    "path = Path('/Users/bbabu/fastai/DataSamples')"
   ]
  },
  {
   "cell_type": "code",
   "execution_count": 4,
   "metadata": {},
   "outputs": [],
   "source": [
    "#For V3\n",
    "data = pd.read_csv(path/'Output-5v4.csv', sep=',', header=0)\n"
   ]
  },
  {
   "cell_type": "code",
   "execution_count": 5,
   "metadata": {},
   "outputs": [],
   "source": [
    "le = preprocessing.LabelEncoder()"
   ]
  },
  {
   "cell_type": "code",
   "execution_count": 6,
   "metadata": {},
   "outputs": [],
   "source": [
    "data_2 = data.apply(le.fit_transform)\n",
    "#data_2.head()\n"
   ]
  },
  {
   "cell_type": "code",
   "execution_count": 7,
   "metadata": {},
   "outputs": [
    {
     "name": "stderr",
     "output_type": "stream",
     "text": [
      "/Users/bbabu/anaconda3/lib/python3.7/site-packages/sklearn/preprocessing/_encoders.py:415: FutureWarning: The handling of integer data will change in version 0.22. Currently, the categories are determined based on the range [0, max(values)], while in the future they will be determined based on the unique values.\n",
      "If you want the future behaviour and silence this warning, you can specify \"categories='auto'\".\n",
      "In case you used a LabelEncoder before this OneHotEncoder to convert the categories to integers, then you can now use the OneHotEncoder directly.\n",
      "  warnings.warn(msg, FutureWarning)\n"
     ]
    },
    {
     "data": {
      "text/plain": [
       "(1170, 986)"
      ]
     },
     "execution_count": 7,
     "metadata": {},
     "output_type": "execute_result"
    }
   ],
   "source": [
    "# TODO: create a OneHotEncoder object, and fit it to all of X\n",
    "\n",
    "# 1. INSTANTIATE\n",
    "enc = preprocessing.OneHotEncoder()\n",
    "\n",
    "# 2. FIT\n",
    "enc.fit(data_2)\n",
    "\n",
    "# 3. Transform\n",
    "onehotlabels = enc.transform(data_2).toarray()\n",
    "onehotlabels.shape\n",
    "\n",
    "#data_2.head()\n"
   ]
  },
  {
   "cell_type": "markdown",
   "metadata": {},
   "source": [
    "\n",
    "#convert the categorical columns into numeric\n",
    "data['GroupDN'] = le.fit_transform(data['GroupDN'])\n",
    "data['Member'] = le.fit_transform(data['Member'])\n",
    "data['BusinessGroup'] = le.fit_transform(data['BusinessGroup'])\n",
    "data['Platform'] = le.fit_transform(data['Platform'])\n",
    "#data['Title'] = le.fit_transform(data['Title'])\n",
    "#data['Department'] = le.fit_transform(data['Department'])\n",
    "data['Country'] = le.fit_transform(data['Country'])\n",
    "#data['State'] = le.fit_transform(data['State'])\n",
    "data['City'] = le.fit_transform(data['City'])\n",
    "#display the initial records\n",
    "#data.head()"
   ]
  },
  {
   "cell_type": "code",
   "execution_count": 8,
   "metadata": {},
   "outputs": [],
   "source": [
    "#Create Dependent and Independent Datasets based on our Dependent #and Independent features\n",
    "X = data_2[['GroupDN', 'Member', 'Manager', 'BusinessGroup', 'Platform', 'Country', 'City']]\n",
    "y = data_2['Owner']\n",
    "#Split the Data into Training and Testing sets with test size as #50%\n",
    "X_train, X_test, y_train, y_test = train_test_split(X,y,test_size=0.50, shuffle=True)"
   ]
  },
  {
   "cell_type": "code",
   "execution_count": 9,
   "metadata": {},
   "outputs": [
    {
     "name": "stdout",
     "output_type": "stream",
     "text": [
      "Accuracy of GaussianNB(priors=[0.95, 0.05], var_smoothing=0.1) is 0.9777777777777777\n",
      "Confusion Matrix of GaussianNB(priors=[0.95, 0.05], var_smoothing=0.1) is [[572   0]\n",
      " [ 13   0]]\n"
     ]
    }
   ],
   "source": [
    "#for clf in classifiers:\n",
    "clf = GaussianNB(priors=[0.95, 0.05], var_smoothing=1e-01)\n",
    "clf.fit(X_train, y_train)\n",
    "y_pred= clf.predict(X_test)\n",
    "acc = accuracy_score(y_test, y_pred)\n",
    "print(\"Accuracy of %s is %s\"%(clf, acc))\n",
    "cm = confusion_matrix(y_test, y_pred)\n",
    "print(\"Confusion Matrix of %s is %s\"%(clf, cm))"
   ]
  },
  {
   "cell_type": "code",
   "execution_count": 10,
   "metadata": {},
   "outputs": [
    {
     "data": {
      "text/plain": [
       "GaussianNB(priors=[0.95, 0.05], var_smoothing=0.1)"
      ]
     },
     "execution_count": 10,
     "metadata": {},
     "output_type": "execute_result"
    }
   ],
   "source": [
    "import pickle\n",
    "#cart_model = tree.DecisionTreeClassifier() #may be\n",
    "cart_model = GaussianNB(priors=[0.95, 0.05], var_smoothing=1e-01) #le-01 is final, this is better\n",
    "#cart_model = GaussianNB(priors=None, var_smoothing=1e-01) #le-01 is final\n",
    "#cart_model = ComplementNB(alpha=3.0, class_prior=None, fit_prior=True, norm=False) #do not use\n",
    "#cart_model  = KNeighborsClassifier() #Do not use\n",
    "#cart_model = RandomForestClassifier(max_depth=5, n_estimators=10, max_features=6) #may be\n",
    "#cart_model = xgboost.XGBClassifier() #Do not use\n",
    "#cart_model = svm.SVC(kernel=\"linear\", C=0.025, gamma=2) #Do not use\n",
    "cart_model.fit(X_train, y_train)"
   ]
  },
  {
   "cell_type": "code",
   "execution_count": 11,
   "metadata": {},
   "outputs": [],
   "source": [
    "# Save model to disk\n",
    "filename = 'Final_Model.sav'\n",
    "pickle.dump(cart_model, open(filename, 'wb'))"
   ]
  },
  {
   "cell_type": "code",
   "execution_count": 12,
   "metadata": {},
   "outputs": [
    {
     "name": "stdout",
     "output_type": "stream",
     "text": [
      "0.9777777777777777\n"
     ]
    }
   ],
   "source": [
    "# Load model from disk and use it to make new predictions\n",
    "loaded_model = pickle.load(open(filename, 'rb'))\n",
    "result = loaded_model.score(X_test, y_test)\n",
    "print(result)"
   ]
  },
  {
   "cell_type": "code",
   "execution_count": 13,
   "metadata": {},
   "outputs": [],
   "source": [
    "# Load test dataset\n",
    "#final_predict = np.loadtxt(path/'Output-6-Test-V3.csv', delimiter=\",\")\n",
    "df_test = pd.read_csv(path/'Output-6-Test-V4.csv', sep=',', header=0)"
   ]
  },
  {
   "cell_type": "code",
   "execution_count": 14,
   "metadata": {},
   "outputs": [],
   "source": [
    "le = preprocessing.LabelEncoder()"
   ]
  },
  {
   "cell_type": "code",
   "execution_count": 15,
   "metadata": {},
   "outputs": [
    {
     "data": {
      "text/html": [
       "<div>\n",
       "<style scoped>\n",
       "    .dataframe tbody tr th:only-of-type {\n",
       "        vertical-align: middle;\n",
       "    }\n",
       "\n",
       "    .dataframe tbody tr th {\n",
       "        vertical-align: top;\n",
       "    }\n",
       "\n",
       "    .dataframe thead th {\n",
       "        text-align: right;\n",
       "    }\n",
       "</style>\n",
       "<table border=\"1\" class=\"dataframe\">\n",
       "  <thead>\n",
       "    <tr style=\"text-align: right;\">\n",
       "      <th></th>\n",
       "      <th>GroupDN</th>\n",
       "      <th>Member</th>\n",
       "      <th>Manager</th>\n",
       "      <th>BusinessGroup</th>\n",
       "      <th>Platform</th>\n",
       "      <th>Country</th>\n",
       "      <th>City</th>\n",
       "    </tr>\n",
       "  </thead>\n",
       "  <tbody>\n",
       "    <tr>\n",
       "      <td>0</td>\n",
       "      <td>73</td>\n",
       "      <td>1969</td>\n",
       "      <td>0</td>\n",
       "      <td>10</td>\n",
       "      <td>4</td>\n",
       "      <td>2</td>\n",
       "      <td>190</td>\n",
       "    </tr>\n",
       "    <tr>\n",
       "      <td>1</td>\n",
       "      <td>73</td>\n",
       "      <td>1425</td>\n",
       "      <td>0</td>\n",
       "      <td>10</td>\n",
       "      <td>4</td>\n",
       "      <td>47</td>\n",
       "      <td>319</td>\n",
       "    </tr>\n",
       "    <tr>\n",
       "      <td>2</td>\n",
       "      <td>73</td>\n",
       "      <td>89</td>\n",
       "      <td>0</td>\n",
       "      <td>10</td>\n",
       "      <td>4</td>\n",
       "      <td>2</td>\n",
       "      <td>190</td>\n",
       "    </tr>\n",
       "    <tr>\n",
       "      <td>3</td>\n",
       "      <td>73</td>\n",
       "      <td>1125</td>\n",
       "      <td>0</td>\n",
       "      <td>9</td>\n",
       "      <td>3</td>\n",
       "      <td>2</td>\n",
       "      <td>207</td>\n",
       "    </tr>\n",
       "    <tr>\n",
       "      <td>4</td>\n",
       "      <td>73</td>\n",
       "      <td>1053</td>\n",
       "      <td>0</td>\n",
       "      <td>10</td>\n",
       "      <td>4</td>\n",
       "      <td>2</td>\n",
       "      <td>190</td>\n",
       "    </tr>\n",
       "  </tbody>\n",
       "</table>\n",
       "</div>"
      ],
      "text/plain": [
       "   GroupDN  Member  Manager  BusinessGroup  Platform  Country  City\n",
       "0       73    1969        0             10         4        2   190\n",
       "1       73    1425        0             10         4       47   319\n",
       "2       73      89        0             10         4        2   190\n",
       "3       73    1125        0              9         3        2   207\n",
       "4       73    1053        0             10         4        2   190"
      ]
     },
     "execution_count": 15,
     "metadata": {},
     "output_type": "execute_result"
    }
   ],
   "source": [
    "df_test_2 = df_test.apply(le.fit_transform)\n",
    "df_test_2.head()"
   ]
  },
  {
   "cell_type": "code",
   "execution_count": 16,
   "metadata": {
    "scrolled": true
   },
   "outputs": [
    {
     "name": "stderr",
     "output_type": "stream",
     "text": [
      "/Users/bbabu/anaconda3/lib/python3.7/site-packages/sklearn/preprocessing/_encoders.py:415: FutureWarning: The handling of integer data will change in version 0.22. Currently, the categories are determined based on the range [0, max(values)], while in the future they will be determined based on the unique values.\n",
      "If you want the future behaviour and silence this warning, you can specify \"categories='auto'\".\n",
      "In case you used a LabelEncoder before this OneHotEncoder to convert the categories to integers, then you can now use the OneHotEncoder directly.\n",
      "  warnings.warn(msg, FutureWarning)\n"
     ]
    },
    {
     "data": {
      "text/plain": [
       "(6035, 4209)"
      ]
     },
     "execution_count": 16,
     "metadata": {},
     "output_type": "execute_result"
    }
   ],
   "source": [
    "# TODO: create a OneHotEncoder object, and fit it to all of X\n",
    "\n",
    "# 1. INSTANTIATE\n",
    "enc = preprocessing.OneHotEncoder()\n",
    "\n",
    "# 2. FIT\n",
    "enc.fit(df_test_2)\n",
    "\n",
    "# 3. Transform\n",
    "onehotlabels = enc.transform(df_test_2).toarray()\n",
    "onehotlabels.shape"
   ]
  },
  {
   "cell_type": "markdown",
   "metadata": {},
   "source": [
    "\n",
    "#convert the categorical columns into numeric\n",
    "df_test['GroupDN'] = le.fit_transform(df_test['GroupDN'])\n",
    "df_test['Member'] = le.fit_transform(df_test['Member'])\n",
    "df_test['BusinessGroup'] = le.fit_transform(df_test['BusinessGroup'])\n",
    "df_test['Platform'] = le.fit_transform(df_test['Platform'])\n",
    "#df_test['Title'] = le.fit_transform(df_test['Title'])\n",
    "#df_test['Department'] = le.fit_transform(df_test['Department'])\n",
    "df_test['Country'] = le.fit_transform(df_test['Country'])\n",
    "#df_test['State'] = le.fit_transform(df_test['State'])\n",
    "df_test['City'] = le.fit_transform(df_test['City'])\n",
    "#display the initial records\n",
    "#df_test.head()"
   ]
  },
  {
   "cell_type": "code",
   "execution_count": 17,
   "metadata": {},
   "outputs": [
    {
     "name": "stdout",
     "output_type": "stream",
     "text": [
      "[1 0 0 0 ... 1 1 0 0]\n"
     ]
    },
    {
     "data": {
      "text/plain": [
       "3542"
      ]
     },
     "execution_count": 17,
     "metadata": {},
     "output_type": "execute_result"
    }
   ],
   "source": [
    "X_train = df_test_2\n",
    "pred = cart_model.predict(X_train)\n",
    "print(pred)\n",
    "pred.sum()"
   ]
  },
  {
   "cell_type": "code",
   "execution_count": 18,
   "metadata": {},
   "outputs": [],
   "source": [
    "final_df = pd.DataFrame({'GroupDN': df_test['GroupDN'],'Member': df_test['Member'], 'Manager': df_test['Manager'], 'Owner': pred})\n",
    "final_df.to_csv(path/'MLProcessed1-Sklearn-GB_OHE.csv', header=True, index=False)"
   ]
  },
  {
   "cell_type": "code",
   "execution_count": null,
   "metadata": {},
   "outputs": [],
   "source": []
  }
 ],
 "metadata": {
  "kernelspec": {
   "display_name": "Python 3",
   "language": "python",
   "name": "python3"
  },
  "language_info": {
   "codemirror_mode": {
    "name": "ipython",
    "version": 3
   },
   "file_extension": ".py",
   "mimetype": "text/x-python",
   "name": "python",
   "nbconvert_exporter": "python",
   "pygments_lexer": "ipython3",
   "version": "3.7.3"
  }
 },
 "nbformat": 4,
 "nbformat_minor": 2
}
