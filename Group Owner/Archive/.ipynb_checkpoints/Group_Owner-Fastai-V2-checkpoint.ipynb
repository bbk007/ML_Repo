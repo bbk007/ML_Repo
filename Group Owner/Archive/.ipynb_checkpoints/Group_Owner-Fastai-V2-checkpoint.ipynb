{
 "cells": [
  {
   "cell_type": "code",
   "execution_count": 1,
   "metadata": {},
   "outputs": [],
   "source": [
    "from fastai.tabular import *\n",
    "import os"
   ]
  },
  {
   "cell_type": "code",
   "execution_count": 2,
   "metadata": {},
   "outputs": [],
   "source": [
    "path = Path('/Users/bbabu/downloads')"
   ]
  },
  {
   "cell_type": "code",
   "execution_count": 3,
   "metadata": {},
   "outputs": [],
   "source": [
    "df = pd.read_csv(path/'Output-5.csv', sep=',', header=0)\n",
    "df_test = pd.read_csv(path/'Output-6-Test.csv', sep=',', header=0)"
   ]
  },
  {
   "cell_type": "code",
   "execution_count": 4,
   "metadata": {},
   "outputs": [],
   "source": [
    "dep_var = 'Owner'\n",
    "cat_names = ['GroupDN', 'Member', 'Manager', 'BusinessGroup', 'Platform', 'Title', 'Description', 'Department', 'Country', 'State', 'City']\n",
    "#cat_names = ['workclass', 'education', 'marital-status', 'occupation', 'relationship', 'race']\n",
    "#cont_names = ['age', 'fnlwgt', 'education-num']\n",
    "procs = [FillMissing, Categorify, Normalize]"
   ]
  },
  {
   "cell_type": "code",
   "execution_count": 5,
   "metadata": {},
   "outputs": [],
   "source": [
    "data = (TabularList.from_df(df, path=path, cat_names=cat_names, procs=procs)\n",
    "        .split_by_idx(list(range(1149,2338)))\n",
    "        .label_from_df(cols=dep_var)\n",
    "        .add_test(TabularList.from_df(df_test, cat_names=cat_names, procs=procs))\n",
    "        .databunch())"
   ]
  },
  {
   "cell_type": "code",
   "execution_count": 44,
   "metadata": {},
   "outputs": [],
   "source": [
    "#learn = tabular_learner(data, layers=[200,100], metrics=accuracy)\n",
    "#learn = tabular_learner(data, layers=[1000,500], metrics=exp_rmspe)\n",
    "learn = tabular_learner(data, layers=[1000,500], metrics=accuracy)"
   ]
  },
  {
   "cell_type": "code",
   "execution_count": 45,
   "metadata": {
    "scrolled": true
   },
   "outputs": [
    {
     "data": {
      "text/plain": [
       "TabularModel(\n",
       "  (embeds): ModuleList(\n",
       "    (0): Embedding(441, 48)\n",
       "    (1): Embedding(2496, 128)\n",
       "    (2): Embedding(3, 3)\n",
       "    (3): Embedding(21, 9)\n",
       "    (4): Embedding(8, 5)\n",
       "    (5): Embedding(1592, 99)\n",
       "    (6): Embedding(1087, 80)\n",
       "    (7): Embedding(576, 56)\n",
       "    (8): Embedding(47, 14)\n",
       "    (9): Embedding(65, 17)\n",
       "    (10): Embedding(279, 37)\n",
       "  )\n",
       "  (emb_drop): Dropout(p=0.0, inplace=False)\n",
       "  (bn_cont): BatchNorm1d(0, eps=1e-05, momentum=0.1, affine=True, track_running_stats=True)\n",
       "  (layers): Sequential(\n",
       "    (0): Linear(in_features=496, out_features=1000, bias=True)\n",
       "    (1): ReLU(inplace=True)\n",
       "    (2): BatchNorm1d(1000, eps=1e-05, momentum=0.1, affine=True, track_running_stats=True)\n",
       "    (3): Linear(in_features=1000, out_features=500, bias=True)\n",
       "    (4): ReLU(inplace=True)\n",
       "    (5): BatchNorm1d(500, eps=1e-05, momentum=0.1, affine=True, track_running_stats=True)\n",
       "    (6): Linear(in_features=500, out_features=2, bias=True)\n",
       "  )\n",
       ")"
      ]
     },
     "execution_count": 45,
     "metadata": {},
     "output_type": "execute_result"
    }
   ],
   "source": [
    "learn.model"
   ]
  },
  {
   "cell_type": "code",
   "execution_count": 46,
   "metadata": {
    "scrolled": true
   },
   "outputs": [
    {
     "data": {
      "text/html": [],
      "text/plain": [
       "<IPython.core.display.HTML object>"
      ]
     },
     "metadata": {},
     "output_type": "display_data"
    },
    {
     "name": "stdout",
     "output_type": "stream",
     "text": [
      "LR Finder is complete, type {learner_name}.recorder.plot() to see the graph.\n"
     ]
    },
    {
     "data": {
      "image/png": "[encoded data removed]",
      "text/plain": [
       "<Figure size 432x288 with 1 Axes>"
      ]
     },
     "metadata": {
      "needs_background": "light"
     },
     "output_type": "display_data"
    }
   ],
   "source": [
    "learn.lr_find()\n",
    "learn.recorder.plot()"
   ]
  },
  {
   "cell_type": "code",
   "execution_count": 61,
   "metadata": {
    "scrolled": true
   },
   "outputs": [
    {
     "data": {
      "text/html": [
       "<table border=\"1\" class=\"dataframe\">\n",
       "  <thead>\n",
       "    <tr style=\"text-align: left;\">\n",
       "      <th>epoch</th>\n",
       "      <th>train_loss</th>\n",
       "      <th>valid_loss</th>\n",
       "      <th>accuracy</th>\n",
       "      <th>time</th>\n",
       "    </tr>\n",
       "  </thead>\n",
       "  <tbody>\n",
       "    <tr>\n",
       "      <td>0</td>\n",
       "      <td>0.123382</td>\n",
       "      <td>0.210149</td>\n",
       "      <td>0.964676</td>\n",
       "      <td>00:02</td>\n",
       "    </tr>\n",
       "    <tr>\n",
       "      <td>1</td>\n",
       "      <td>0.212761</td>\n",
       "      <td>0.725620</td>\n",
       "      <td>0.742641</td>\n",
       "      <td>00:02</td>\n",
       "    </tr>\n",
       "    <tr>\n",
       "      <td>2</td>\n",
       "      <td>0.177115</td>\n",
       "      <td>0.277410</td>\n",
       "      <td>0.914214</td>\n",
       "      <td>00:02</td>\n",
       "    </tr>\n",
       "    <tr>\n",
       "      <td>3</td>\n",
       "      <td>0.109065</td>\n",
       "      <td>0.217628</td>\n",
       "      <td>0.956266</td>\n",
       "      <td>00:02</td>\n",
       "    </tr>\n",
       "    <tr>\n",
       "      <td>4</td>\n",
       "      <td>0.083647</td>\n",
       "      <td>0.179439</td>\n",
       "      <td>0.955425</td>\n",
       "      <td>00:02</td>\n",
       "    </tr>\n",
       "  </tbody>\n",
       "</table>"
      ],
      "text/plain": [
       "<IPython.core.display.HTML object>"
      ]
     },
     "metadata": {},
     "output_type": "display_data"
    }
   ],
   "source": [
    "learn.fit(5, 1e-1)"
   ]
  },
  {
   "cell_type": "code",
   "execution_count": 62,
   "metadata": {
    "scrolled": true
   },
   "outputs": [],
   "source": [
    "#learn.fit_one_cycle(3, 1e-01, wd = 0.2)"
   ]
  },
  {
   "cell_type": "code",
   "execution_count": 63,
   "metadata": {},
   "outputs": [
    {
     "data": {
      "text/plain": [
       "(Category No, tensor(0), tensor([9.9920e-01, 8.0072e-04]))"
      ]
     },
     "execution_count": 63,
     "metadata": {},
     "output_type": "execute_result"
    }
   ],
   "source": [
    "row = df.iloc[4988]\n",
    "learn.predict(row)"
   ]
  },
  {
   "cell_type": "code",
   "execution_count": 64,
   "metadata": {
    "scrolled": true
   },
   "outputs": [
    {
     "data": {
      "image/png": "[encoded data removed]",
      "text/plain": [
       "<Figure size 432x288 with 1 Axes>"
      ]
     },
     "metadata": {
      "needs_background": "light"
     },
     "output_type": "display_data"
    }
   ],
   "source": [
    "learn.recorder.plot_losses()"
   ]
  },
  {
   "cell_type": "code",
   "execution_count": 65,
   "metadata": {},
   "outputs": [
    {
     "data": {
      "image/png": "[encoded data removed]",
      "text/plain": [
       "<Figure size 432x288 with 1 Axes>"
      ]
     },
     "metadata": {
      "needs_background": "light"
     },
     "output_type": "display_data"
    }
   ],
   "source": [
    "interp = ClassificationInterpretation.from_learner(learn)\n",
    "interp.plot_confusion_matrix()"
   ]
  },
  {
   "cell_type": "code",
   "execution_count": 66,
   "metadata": {},
   "outputs": [],
   "source": [
    "learn.export()"
   ]
  },
  {
   "cell_type": "code",
   "execution_count": 67,
   "metadata": {},
   "outputs": [],
   "source": [
    "preds = learn.get_preds(ds_type=DatasetType.Test)[1].numpy()"
   ]
  },
  {
   "cell_type": "code",
   "execution_count": 68,
   "metadata": {},
   "outputs": [],
   "source": [
    "final_df = pd.DataFrame({'GroupDN': df_test['GroupDN'],'Member': df_test['Member'], 'Manager': df_test['Manager'], 'Owner': preds})\n",
    "final_df.to_csv(path/'MLProcessed1.csv', header=True, index=False)"
   ]
  },
  {
   "cell_type": "code",
   "execution_count": 69,
   "metadata": {},
   "outputs": [
    {
     "name": "stdout",
     "output_type": "stream",
     "text": [
      "[0 0 0 0 ... 0 0 0 0]\n"
     ]
    }
   ],
   "source": [
    "print(preds)"
   ]
  },
  {
   "cell_type": "code",
   "execution_count": 70,
   "metadata": {
    "scrolled": true
   },
   "outputs": [
    {
     "data": {
      "text/html": [
       "<table border=\"1\" class=\"dataframe\">\n",
       "  <thead>\n",
       "    <tr style=\"text-align: right;\">\n",
       "      <th>GroupDN</th>\n",
       "      <th>Member</th>\n",
       "      <th>Manager</th>\n",
       "      <th>BusinessGroup</th>\n",
       "      <th>Platform</th>\n",
       "      <th>Title</th>\n",
       "      <th>Description</th>\n",
       "      <th>Department</th>\n",
       "      <th>Country</th>\n",
       "      <th>State</th>\n",
       "      <th>City</th>\n",
       "      <th>target</th>\n",
       "      <th>prediction</th>\n",
       "    </tr>\n",
       "  </thead>\n",
       "  <tbody>\n",
       "    <tr>\n",
       "      <td>CN=MSUAKAKH003~UAKakhData~Engineering~EHS~FEP~m,OU=Users,OU=Office,OU=Kakhovka,OU=Ukraine,DC=eu,DC=Corp,DC=Cargill,DC=com</td>\n",
       "      <td>afandey</td>\n",
       "      <td>No</td>\n",
       "      <td>CASC Europe Middle East Africa</td>\n",
       "      <td>Agricultural Supply Chain</td>\n",
       "      <td>Utility Engineer</td>\n",
       "      <td>CASC EMEA BOSC - Maintenance - KAKHOVKA</td>\n",
       "      <td>Maintenance</td>\n",
       "      <td>Ukraine</td>\n",
       "      <td>#na#</td>\n",
       "      <td>Kakhovka</td>\n",
       "      <td>Yes</td>\n",
       "      <td>No</td>\n",
       "    </tr>\n",
       "    <tr>\n",
       "      <td>CN=MSUAKAKH003~UAKakhData~Engineering~EHS~FEP~m,OU=Users,OU=Office,OU=Kakhovka,OU=Ukraine,DC=eu,DC=Corp,DC=Cargill,DC=com</td>\n",
       "      <td>ilegenko</td>\n",
       "      <td>No</td>\n",
       "      <td>CASC Europe Middle East Africa</td>\n",
       "      <td>Agricultural Supply Chain</td>\n",
       "      <td>Lab chemist</td>\n",
       "      <td>CASC EMEA BOSC - Laboratory - KAKHOVKA</td>\n",
       "      <td>Laboratory</td>\n",
       "      <td>Ukraine</td>\n",
       "      <td>#na#</td>\n",
       "      <td>Kakhovka</td>\n",
       "      <td>No</td>\n",
       "      <td>No</td>\n",
       "    </tr>\n",
       "    <tr>\n",
       "      <td>CN=MSUAKAKH003~UAKakhData~Engineering~EHS~FEP~m,OU=Users,OU=Office,OU=Kakhovka,OU=Ukraine,DC=eu,DC=Corp,DC=Cargill,DC=com</td>\n",
       "      <td>nsinyavs</td>\n",
       "      <td>Yes</td>\n",
       "      <td>CASC Europe Middle East Africa</td>\n",
       "      <td>Agricultural Supply Chain</td>\n",
       "      <td>Electrical Supervisor</td>\n",
       "      <td>CASC EMEA BOSC - Maintenance - KAKHOVKA</td>\n",
       "      <td>Maintenance</td>\n",
       "      <td>Ukraine</td>\n",
       "      <td>#na#</td>\n",
       "      <td>Kakhovka</td>\n",
       "      <td>No</td>\n",
       "      <td>No</td>\n",
       "    </tr>\n",
       "    <tr>\n",
       "      <td>CN=MSUAKAKH003~UAKakhData~Engineering~EHS~FEP~m,OU=Users,OU=Office,OU=Kakhovka,OU=Ukraine,DC=eu,DC=Corp,DC=Cargill,DC=com</td>\n",
       "      <td>l638271</td>\n",
       "      <td>No</td>\n",
       "      <td>CASC Europe Middle East Africa</td>\n",
       "      <td>Agricultural Supply Chain</td>\n",
       "      <td>Engineer Chemist</td>\n",
       "      <td>CASC EMEA BOSC - Laboratory - KAKHOVKA</td>\n",
       "      <td>Laboratory</td>\n",
       "      <td>Ukraine</td>\n",
       "      <td>#na#</td>\n",
       "      <td>Kakhovka</td>\n",
       "      <td>No</td>\n",
       "      <td>No</td>\n",
       "    </tr>\n",
       "    <tr>\n",
       "      <td>CN=MSUAKAKH003~UAKakhData~Engineering~EHS~FEP~m,OU=Users,OU=Office,OU=Kakhovka,OU=Ukraine,DC=eu,DC=Corp,DC=Cargill,DC=com</td>\n",
       "      <td>smaystre</td>\n",
       "      <td>Yes</td>\n",
       "      <td>CASC Europe Middle East Africa</td>\n",
       "      <td>Agricultural Supply Chain</td>\n",
       "      <td>Logistics Supervisor</td>\n",
       "      <td>CASC EMEA BOSC - Planning &amp; Logistic - KAKHOVKA</td>\n",
       "      <td>Planning &amp; Logistic</td>\n",
       "      <td>Ukraine</td>\n",
       "      <td>#na#</td>\n",
       "      <td>Kakhovka</td>\n",
       "      <td>No</td>\n",
       "      <td>No</td>\n",
       "    </tr>\n",
       "  </tbody>\n",
       "</table>"
      ],
      "text/plain": [
       "<IPython.core.display.HTML object>"
      ]
     },
     "metadata": {},
     "output_type": "display_data"
    }
   ],
   "source": [
    "learn.show_results()"
   ]
  },
  {
   "cell_type": "code",
   "execution_count": null,
   "metadata": {},
   "outputs": [],
   "source": []
  }
 ],
 "metadata": {
  "kernelspec": {
   "display_name": "Python 3",
   "language": "python",
   "name": "python3"
  },
  "language_info": {
   "codemirror_mode": {
    "name": "ipython",
    "version": 3
   },
   "file_extension": ".py",
   "mimetype": "text/x-python",
   "name": "python",
   "nbconvert_exporter": "python",
   "pygments_lexer": "ipython3",
   "version": "3.7.3"
  }
 },
 "nbformat": 4,
 "nbformat_minor": 2
}
