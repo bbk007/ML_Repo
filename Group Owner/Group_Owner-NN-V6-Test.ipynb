{
 "cells": [
  {
   "cell_type": "code",
   "execution_count": 1,
   "metadata": {},
   "outputs": [
    {
     "name": "stderr",
     "output_type": "stream",
     "text": [
      "Using TensorFlow backend.\n"
     ]
    }
   ],
   "source": [
    "from fastai.tabular import *\n",
    "import os\n",
    "import pandas as pd \n",
    "import numpy as np\n",
    "from sklearn.metrics import accuracy_score, confusion_matrix\n",
    "from sklearn.ensemble import RandomForestClassifier\n",
    "from sklearn.naive_bayes import GaussianNB\n",
    "from sklearn.naive_bayes import ComplementNB\n",
    "from sklearn import svm, tree\n",
    "import xgboost\n",
    "from sklearn.model_selection import train_test_split\n",
    "from sklearn import preprocessing\n",
    "from sklearn.neighbors import KNeighborsClassifier\n",
    "\n",
    "from sklearn.linear_model import LogisticRegression\n",
    "from sklearn.linear_model import SGDClassifier\n",
    "from sklearn.kernel_approximation import RBFSampler\n",
    "\n",
    "\n",
    "from sklearn import model_selection\n",
    "from pandas.plotting import scatter_matrix\n",
    "import matplotlib.pyplot as plt\n",
    "\n",
    "from xgboost import plot_importance\n",
    "from xgboost import plot_tree\n",
    "import xgboost as xgb\n",
    "\n",
    "import pickle\n",
    "from sklearn.preprocessing import StandardScaler\n",
    "from sklearn.metrics import log_loss\n",
    "from sklearn.metrics import classification_report\n",
    "\n",
    "\n",
    "import keras\n",
    "from keras.models import Sequential\n",
    "from keras.layers import Dense"
   ]
  },
  {
   "cell_type": "code",
   "execution_count": 2,
   "metadata": {},
   "outputs": [],
   "source": [
    "path = Path('/Users/bbabu/fastai/DataSamples')"
   ]
  },
  {
   "cell_type": "code",
   "execution_count": 3,
   "metadata": {},
   "outputs": [],
   "source": [
    "# df_test = pd.read_csv(path/'Test-Group-2.csv', sep=',', header=0)\n",
    "# df_test_2s = pd.read_csv(path/'Test-Group-2.csv', sep=',', header=0)"
   ]
  },
  {
   "cell_type": "code",
   "execution_count": 4,
   "metadata": {},
   "outputs": [],
   "source": [
    "# df_test = pd.read_csv(path/'Groups_without_Owners-V2.csv', sep=',', header=0)\n",
    "# df_test_2s = pd.read_csv(path/'Groups_without_Owners-V2.csv', sep=',', header=0)"
   ]
  },
  {
   "cell_type": "code",
   "execution_count": 5,
   "metadata": {},
   "outputs": [],
   "source": [
    "df_test = pd.read_csv(path/'Test-Group-1a.csv', sep=',', header=0)\n",
    "df_test_2s = pd.read_csv(path/'Test-Group-1a.csv', sep=',', header=0)"
   ]
  },
  {
   "cell_type": "code",
   "execution_count": 6,
   "metadata": {},
   "outputs": [],
   "source": [
    "# print(df_test)"
   ]
  },
  {
   "cell_type": "code",
   "execution_count": 7,
   "metadata": {},
   "outputs": [],
   "source": [
    "df_test.drop(['Description', 'MemberDN', 'State', 'Owner'], axis=1, inplace=True)\n",
    "df_test_2s.drop(['Description', 'MemberDN', 'State', 'Owner'], axis=1, inplace=True)"
   ]
  },
  {
   "cell_type": "code",
   "execution_count": 8,
   "metadata": {},
   "outputs": [],
   "source": [
    "# df_test.drop(['GroupCountry'], axis=1, inplace=True)\n",
    "# df_test_2s.drop(['GroupCountry'], axis=1, inplace=True)"
   ]
  },
  {
   "cell_type": "code",
   "execution_count": 9,
   "metadata": {},
   "outputs": [],
   "source": [
    "# df_test.drop(['GroupCountry', 'GroupDomain', 'Domain'], axis=1, inplace=True)\n",
    "# df_test_2s.drop(['GroupCountry', 'GroupDomain', 'Domain'], axis=1, inplace=True)"
   ]
  },
  {
   "cell_type": "code",
   "execution_count": 10,
   "metadata": {},
   "outputs": [],
   "source": [
    "df_test.drop_duplicates(keep='first',inplace=True) \n",
    "df_test_2s.drop_duplicates(keep='first',inplace=True) "
   ]
  },
  {
   "cell_type": "code",
   "execution_count": 11,
   "metadata": {},
   "outputs": [],
   "source": [
    "df_tests = df_test_2s.groupby(['GroupDN'], as_index=False)"
   ]
  },
  {
   "cell_type": "code",
   "execution_count": 45,
   "metadata": {},
   "outputs": [
    {
     "name": "stderr",
     "output_type": "stream",
     "text": [
      "/Users/bbabu/anaconda3/lib/python3.7/site-packages/pandas/core/generic.py:6287: SettingWithCopyWarning: \n",
      "A value is trying to be set on a copy of a slice from a DataFrame\n",
      "\n",
      "See the caveats in the documentation: http://pandas.pydata.org/pandas-docs/stable/user_guide/indexing.html#returning-a-view-versus-a-copy\n",
      "  self._update_inplace(new_data)\n"
     ]
    },
    {
     "name": "stdout",
     "output_type": "stream",
     "text": [
      "Total number of predicted owners are: 0.18673262\n",
      "Mean of owners are: 0.031122103\n",
      "Predicated Owner for the group CN=SGSING033M WTS Users,OU=Users,OU=Kuala Lumpur,OU=Malaysia,DC=ap,DC=Corp,DC=Cargill,DC=com is rporavy with value 0.04228732\n"
     ]
    }
   ],
   "source": [
    "i = 0\n",
    "for name, df_test_2 in df_tests:\n",
    "#     df_test_2 = pd.DataFrame(df_test)\n",
    "#     print(df_test)\n",
    "#     print(df_test_2.select_dtypes(include=['object']).columns.values)\n",
    "    le = preprocessing.LabelEncoder()\n",
    "    categorical = list(df_test_2.select_dtypes(include=['object']).columns.values)\n",
    "    for cat in categorical:\n",
    "        df_test_2[cat].fillna('NaN', inplace=True)\n",
    "        df_test_2[cat] = le.fit_transform(df_test_2[cat].astype(str))\n",
    "    \n",
    "    filename = path/'Final_Model-NN.sav'\n",
    "    loaded_model = pickle.load(open(filename, 'rb'))\n",
    "    \n",
    "    sc = StandardScaler()    \n",
    "    X_test = df_test_2\n",
    "    X_test = sc.fit_transform(X_test)\n",
    "    pred = loaded_model.predict(X_test)\n",
    "    if pred.sum() == 0:\n",
    "        i += 1\n",
    "    \n",
    "#     categorical = list(df_test_2.columns.values)\n",
    "#     for cat in categorical:\n",
    "#         df_test_2[cat].fillna('NaN', inplace=True)\n",
    "#         df_test_2[cat] = le.inverse_transform(df_test_2[cat])\n",
    "    \n",
    "#     feature_imp = pd.Series(loaded_model.feature_importances_,index=df_test_2.columns.values).sort_values(ascending=False)\n",
    "    \n",
    "#     print(\"Feature importance table is as follows:\")\n",
    "#     print(feature_imp.to_string())\n",
    "    print(\"Total number of predicted owners are: %s\"%(pred.sum()))\n",
    "    print(\"Mean of owners are: %s\"%(pred.mean()))\n",
    "#     print(final_df)\n",
    "\n",
    "final_df = pd.DataFrame({'GroupDN': df_test['GroupDN'],'Member': df_test['Member'], 'Manager': df_test['Manager'], 'Owner': pred[:, 0]})\n",
    "out = final_df.loc[final_df['Owner'].idxmax()]\n",
    "# print(\"Total number of groups are: %s\"%(len(df_tests)))\n",
    "# print(\"Number of predicted groups with owners are: %s\"%(len(df_tests) - i))\n",
    "print(\"Predicated Owner for the group %s is %s with value %s\"%(out[0], out[1], out[3]))\n",
    "\n"
   ]
  },
  {
   "cell_type": "code",
   "execution_count": 13,
   "metadata": {},
   "outputs": [],
   "source": [
    "# print(\"Predicated Owner for the group %s is %s \"%(out.iat[0,0], out.iat[1,0]))\n"
   ]
  },
  {
   "cell_type": "code",
   "execution_count": 14,
   "metadata": {},
   "outputs": [],
   "source": [
    "out.to_csv(path/'Out.csv', header=True, index=False)"
   ]
  },
  {
   "cell_type": "code",
   "execution_count": 15,
   "metadata": {},
   "outputs": [],
   "source": [
    "# le = preprocessing.LabelEncoder()\n",
    "\n",
    "# categorical = list(df_test_2.select_dtypes(include=['object']).columns.values)\n",
    "# for cat in categorical:\n",
    "#     #print(cat)\n",
    "#     df_test_2[cat].fillna('0', inplace=True)\n",
    "#     df_test_2[cat] = le.fit_transform(df_test_2[cat].astype(str))"
   ]
  },
  {
   "cell_type": "code",
   "execution_count": 16,
   "metadata": {},
   "outputs": [],
   "source": [
    "# filename = path/'Final_Model-XGBoosterV6.sav'"
   ]
  },
  {
   "cell_type": "code",
   "execution_count": 17,
   "metadata": {},
   "outputs": [],
   "source": [
    "# loaded_model = pickle.load(open(filename, 'rb'))"
   ]
  },
  {
   "cell_type": "code",
   "execution_count": 18,
   "metadata": {},
   "outputs": [],
   "source": [
    "\n",
    "# sc = StandardScaler() \n",
    "# X_test = df_test_2\n",
    "# X_test = sc.fit_transform(X_test)\n",
    "# pred = loaded_model.predict(X_test)"
   ]
  },
  {
   "cell_type": "code",
   "execution_count": 19,
   "metadata": {},
   "outputs": [],
   "source": [
    "# pred = loaded_model.predict(X_test)"
   ]
  },
  {
   "cell_type": "code",
   "execution_count": 20,
   "metadata": {},
   "outputs": [],
   "source": [
    "# feature_imp = pd.Series(loaded_model.feature_importances_,index=df_test_2.columns.values).sort_values(ascending=False)"
   ]
  },
  {
   "cell_type": "code",
   "execution_count": 21,
   "metadata": {},
   "outputs": [],
   "source": [
    "#df_test['Member'] = le.inverse_transform(df_test['Member'])\n",
    "# final_df = pd.DataFrame({'GroupDN': df_test['GroupDN'],'Member': df_test['Member'], 'Manager': df_test['Manager'], 'Owner': pred})"
   ]
  },
  {
   "cell_type": "code",
   "execution_count": 22,
   "metadata": {},
   "outputs": [],
   "source": [
    "# final_df.to_csv(path/'MLProcessed1-XGBoosterV6-Test.csv', header=True, index=False)"
   ]
  },
  {
   "cell_type": "code",
   "execution_count": 23,
   "metadata": {},
   "outputs": [],
   "source": [
    "# grouped = final_df.groupby(['GroupDN'])"
   ]
  },
  {
   "cell_type": "code",
   "execution_count": 24,
   "metadata": {},
   "outputs": [],
   "source": [
    "# i = 0\n",
    "# for name, group in grouped:\n",
    "#     if group['Owner'].sum() == 0:\n",
    "#         i += 1\n",
    "        "
   ]
  },
  {
   "cell_type": "code",
   "execution_count": 25,
   "metadata": {},
   "outputs": [],
   "source": [
    "# print(\"Feature importance table is as follows:\")\n",
    "# print(feature_imp.to_string())\n",
    "# # print(pred)\n",
    "# # print(\"Model accuracy is: %s\"%(result))\n",
    "# print(\"Total number of predicted owners are: %s\"%(pred.sum()))\n",
    "# print(\"Mean of owners are: %s\"%(pred.mean()))\n",
    "# print(\"Total number of groups are: %s\"%(len(grouped)))\n",
    "# print(\"Number of predicted groups with owners are: %s\"%(len(grouped) - i))\n",
    "# # print(\"Accuracy score of the model is: %s\"%(acc))"
   ]
  },
  {
   "cell_type": "code",
   "execution_count": 26,
   "metadata": {},
   "outputs": [],
   "source": [
    "# xgboost.plot_tree(loaded_model, rankdir='LR')\n",
    "# # plt.show()\n",
    "# fig = plt.gcf()\n",
    "# fig.set_size_inches(400, 300)\n",
    "# fig.savefig(path/'XGBoost_Tree-Test.png')"
   ]
  },
  {
   "cell_type": "code",
   "execution_count": null,
   "metadata": {},
   "outputs": [],
   "source": []
  },
  {
   "cell_type": "code",
   "execution_count": null,
   "metadata": {},
   "outputs": [],
   "source": []
  }
 ],
 "metadata": {
  "kernelspec": {
   "display_name": "Python 3",
   "language": "python",
   "name": "python3"
  },
  "language_info": {
   "codemirror_mode": {
    "name": "ipython",
    "version": 3
   },
   "file_extension": ".py",
   "mimetype": "text/x-python",
   "name": "python",
   "nbconvert_exporter": "python",
   "pygments_lexer": "ipython3",
   "version": "3.7.3"
  }
 },
 "nbformat": 4,
 "nbformat_minor": 2
}
