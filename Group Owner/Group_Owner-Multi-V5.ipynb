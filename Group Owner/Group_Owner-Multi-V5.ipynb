{
 "cells": [
  {
   "cell_type": "code",
   "execution_count": 1,
   "metadata": {},
   "outputs": [],
   "source": [
    "# https://scikit-learn.org/stable/tutorial/machine_learning_map/index.html\n",
    "# https://medium.com/datadriveninvestor/choosing-the-best-algorithm-for-your-classification-model-7c632c78f38f\n",
    "# https://scikit-learn.org/stable/auto_examples/classification/plot_classifier_comparison.html\n",
    "# https://www.dataquest.io/blog/sci-kit-learn-tutorial/\n",
    "# https://datascience.stackexchange.com/questions/33256/how-to-apply-machine-learning-model-to-new-dataset"
   ]
  },
  {
   "cell_type": "code",
   "execution_count": 2,
   "metadata": {},
   "outputs": [],
   "source": [
    "from fastai.tabular import *\n",
    "import os\n",
    "import pandas as pd \n",
    "import numpy as np\n",
    "from sklearn.metrics import accuracy_score, confusion_matrix\n",
    "from sklearn.ensemble import RandomForestClassifier\n",
    "from sklearn.naive_bayes import GaussianNB\n",
    "from sklearn.naive_bayes import ComplementNB\n",
    "from sklearn import svm, tree\n",
    "import xgboost\n",
    "from sklearn.model_selection import train_test_split\n",
    "from sklearn import preprocessing\n",
    "from sklearn.neighbors import KNeighborsClassifier\n",
    "\n",
    "from sklearn.linear_model import LogisticRegression\n",
    "from sklearn.linear_model import SGDClassifier\n",
    "from sklearn.kernel_approximation import RBFSampler\n",
    "\n",
    "\n",
    "from sklearn import model_selection\n",
    "from pandas.plotting import scatter_matrix\n",
    "import matplotlib.pyplot as plt\n",
    "#from yellowbrick.classifier import ClassificationReport\n"
   ]
  },
  {
   "cell_type": "code",
   "execution_count": 3,
   "metadata": {},
   "outputs": [],
   "source": [
    "path = Path('/Users/bbabu/fastai/DataSamples')"
   ]
  },
  {
   "cell_type": "code",
   "execution_count": 4,
   "metadata": {},
   "outputs": [],
   "source": [
    "data = pd.read_csv(path/'Output-5v5.csv', sep=',', header=0)\n",
    "df_test = pd.read_csv(path/'Output-5v5-Test.csv', sep=',', header=0)\n",
    "df_test_2 = pd.read_csv(path/'Output-5v5-Test.csv', sep=',', header=0)\n"
   ]
  },
  {
   "cell_type": "code",
   "execution_count": 5,
   "metadata": {},
   "outputs": [],
   "source": [
    "data.drop('Description', axis=1, inplace=True)\n",
    "df_test.drop('Description', axis=1, inplace=True)\n",
    "df_test_2.drop('Description', axis=1, inplace=True)"
   ]
  },
  {
   "cell_type": "code",
   "execution_count": 6,
   "metadata": {},
   "outputs": [],
   "source": [
    "le = preprocessing.LabelEncoder()\n",
    "categorical = list(data.select_dtypes(include=['object']).columns.values)\n",
    "for cat in categorical:\n",
    "    #print(cat)\n",
    "    data[cat].fillna('N/A', inplace=True)\n",
    "    data[cat] = le.fit_transform(data[cat].astype(str))\n",
    "\n",
    "# #convert the categorical columns into numeric\n",
    "# data['GroupDN'] = le.fit_transform(data['GroupDN'])\n",
    "# data['Member'] = le.fit_transform(data['Member'])\n",
    "# data['BusinessGroup'] = le.fit_transform(data['BusinessGroup'])\n",
    "# data['Platform'] = le.fit_transform(data['Platform'])\n",
    "# #data['Title'] = le.fit_transform(data['Title'])\n",
    "# #data['Department'] = le.fit_transform(data['Department'])\n",
    "# data['Country'] = le.fit_transform(data['Country'])\n",
    "# #data['State'] = le.fit_transform(data['State'])\n",
    "# data['City'] = le.fit_transform(data['City'])\n",
    "# #display the initial records\n",
    "# #data.head()"
   ]
  },
  {
   "cell_type": "code",
   "execution_count": 7,
   "metadata": {},
   "outputs": [],
   "source": [
    "#Create Dependent and Independent Datasets based on our Dependent #and Independent features\n",
    "X = data[['GroupDN', 'Member', 'Manager', 'BusinessGroup', 'Platform', 'Title', 'Department', 'Country', 'City']]\n",
    "y = data['Owner']\n",
    "#Split the Data into Training and Testing sets with test size as #30%\n",
    "X_train, X_test, y_train, y_test = train_test_split(X,y,test_size=0.5, shuffle=True)\n"
   ]
  },
  {
   "cell_type": "code",
   "execution_count": 8,
   "metadata": {},
   "outputs": [],
   "source": [
    "classifiers = [\n",
    "    xgboost.XGBClassifier(learning_rate=0.0001, max_depth=30, n_estimators=1000, seed=14, booster='gbtree'),\n",
    "    svm.SVC(kernel=\"linear\", C=0.025),\n",
    "    svm.SVC(gamma=2, C=1),\n",
    "    LogisticRegression(),\n",
    "    SGDClassifier(loss=\"log\", penalty=\"l2\", max_iter=500),\n",
    "    tree.DecisionTreeClassifier(max_depth=5),\n",
    "    GaussianNB(priors=None, var_smoothing=1e-01),\n",
    "    ComplementNB(alpha=3.0, class_prior=None, fit_prior=False, norm=False),\n",
    "    KNeighborsClassifier(n_neighbors=3),\n",
    "    RandomForestClassifier(max_depth=10, n_estimators=100, max_features=6, verbose=0, bootstrap=False, criterion='entropy'),]"
   ]
  },
  {
   "cell_type": "code",
   "execution_count": 9,
   "metadata": {},
   "outputs": [],
   "source": [
    "model1 = xgboost.XGBClassifier(learning_rate=0.0001, max_depth=30, n_estimators=1000, seed=14, booster='gbtree')\n",
    "classifiers.append(model1)\n",
    "\n",
    "model2 = svm.SVC(kernel=\"linear\", C=0.025, gamma=2)\n",
    "classifiers.append(model2)\n",
    "\n",
    "model3 = tree.DecisionTreeClassifier()\n",
    "classifiers.append(model3)\n",
    "\n",
    "model4 = RandomForestClassifier(max_depth=10, n_estimators=100, max_features=6, verbose=0, bootstrap=False, criterion='entropy')\n",
    "classifiers.append(model4)\n",
    "\n",
    "model5 = GaussianNB(priors=None, var_smoothing=1e-01)\n",
    "classifiers.append(model5)\n",
    "\n",
    "model6 = KNeighborsClassifier()\n",
    "classifiers.append(model6)\n",
    "\n",
    "model7 = ComplementNB(alpha=3.0, class_prior=None, fit_prior=False, norm=False)\n",
    "classifiers.append(model7)\n",
    "\n",
    "model8 = LogisticRegression()\n",
    "classifiers.append(model8)\n",
    "\n",
    "model9 = SGDClassifier(loss=\"log\", penalty=\"l2\", max_iter=500)\n",
    "classifiers.append(model9)\n",
    "\n",
    "model10 = SGDClassifier(max_iter=50)\n",
    "classifiers.append(model10)"
   ]
  },
  {
   "cell_type": "code",
   "execution_count": 10,
   "metadata": {},
   "outputs": [],
   "source": [
    "# # Testing Kernal Approximation\n",
    "# rbf_feature = RBFSampler(gamma=1, random_state=1)\n",
    "# X_features = rbf_feature.fit_transform(X)\n",
    "# clf = SGDClassifier(max_iter=5)\n",
    "# clf.fit(X_features, y)\n",
    "# clf.score(X_features, y)\n",
    "\n"
   ]
  },
  {
   "cell_type": "code",
   "execution_count": 11,
   "metadata": {},
   "outputs": [
    {
     "name": "stdout",
     "output_type": "stream",
     "text": [
      "Accuracy of XGBClassifier(base_score=0.5, booster='gbtree', colsample_bylevel=1,\n",
      "              colsample_bynode=1, colsample_bytree=1, gamma=0,\n",
      "              learning_rate=0.0001, max_delta_step=0, max_depth=30,\n",
      "              min_child_weight=1, missing=None, n_estimators=1000, n_jobs=1,\n",
      "              nthread=None, objective='binary:logistic', random_state=0,\n",
      "              reg_alpha=0, reg_lambda=1, scale_pos_weight=1, seed=14,\n",
      "              silent=None, subsample=1, verbosity=1) is 0.9777777777777777\n",
      "Confusion Matrix of XGBClassifier(base_score=0.5, booster='gbtree', colsample_bylevel=1,\n",
      "              colsample_bynode=1, colsample_bytree=1, gamma=0,\n",
      "              learning_rate=0.0001, max_delta_step=0, max_depth=30,\n",
      "              min_child_weight=1, missing=None, n_estimators=1000, n_jobs=1,\n",
      "              nthread=None, objective='binary:logistic', random_state=0,\n",
      "              reg_alpha=0, reg_lambda=1, scale_pos_weight=1, seed=14,\n",
      "              silent=None, subsample=1, verbosity=1) is [[568   0]\n",
      " [ 13   4]]\n",
      "Accuracy of SVC(C=0.025, cache_size=200, class_weight=None, coef0=0.0,\n",
      "    decision_function_shape='ovr', degree=3, gamma='auto_deprecated',\n",
      "    kernel='linear', max_iter=-1, probability=False, random_state=None,\n",
      "    shrinking=True, tol=0.001, verbose=False) is 0.9709401709401709\n",
      "Confusion Matrix of SVC(C=0.025, cache_size=200, class_weight=None, coef0=0.0,\n",
      "    decision_function_shape='ovr', degree=3, gamma='auto_deprecated',\n",
      "    kernel='linear', max_iter=-1, probability=False, random_state=None,\n",
      "    shrinking=True, tol=0.001, verbose=False) is [[568   0]\n",
      " [ 17   0]]\n",
      "Accuracy of SVC(C=1, cache_size=200, class_weight=None, coef0=0.0,\n",
      "    decision_function_shape='ovr', degree=3, gamma=2, kernel='rbf', max_iter=-1,\n",
      "    probability=False, random_state=None, shrinking=True, tol=0.001,\n",
      "    verbose=False) is 0.9709401709401709\n",
      "Confusion Matrix of SVC(C=1, cache_size=200, class_weight=None, coef0=0.0,\n",
      "    decision_function_shape='ovr', degree=3, gamma=2, kernel='rbf', max_iter=-1,\n",
      "    probability=False, random_state=None, shrinking=True, tol=0.001,\n",
      "    verbose=False) is [[568   0]\n",
      " [ 17   0]]\n",
      "Accuracy of LogisticRegression(C=1.0, class_weight=None, dual=False, fit_intercept=True,\n",
      "                   intercept_scaling=1, l1_ratio=None, max_iter=100,\n",
      "                   multi_class='warn', n_jobs=None, penalty='l2',\n",
      "                   random_state=None, solver='warn', tol=0.0001, verbose=0,\n",
      "                   warm_start=False) is 0.9709401709401709\n",
      "Confusion Matrix of LogisticRegression(C=1.0, class_weight=None, dual=False, fit_intercept=True,\n",
      "                   intercept_scaling=1, l1_ratio=None, max_iter=100,\n",
      "                   multi_class='warn', n_jobs=None, penalty='l2',\n",
      "                   random_state=None, solver='warn', tol=0.0001, verbose=0,\n",
      "                   warm_start=False) is [[568   0]\n",
      " [ 17   0]]\n",
      "Accuracy of SGDClassifier(alpha=0.0001, average=False, class_weight=None,\n",
      "              early_stopping=False, epsilon=0.1, eta0=0.0, fit_intercept=True,\n",
      "              l1_ratio=0.15, learning_rate='optimal', loss='log', max_iter=500,\n",
      "              n_iter_no_change=5, n_jobs=None, penalty='l2', power_t=0.5,\n",
      "              random_state=None, shuffle=True, tol=0.001,\n",
      "              validation_fraction=0.1, verbose=0, warm_start=False) is 0.9435897435897436\n",
      "Confusion Matrix of SGDClassifier(alpha=0.0001, average=False, class_weight=None,\n",
      "              early_stopping=False, epsilon=0.1, eta0=0.0, fit_intercept=True,\n",
      "              l1_ratio=0.15, learning_rate='optimal', loss='log', max_iter=500,\n",
      "              n_iter_no_change=5, n_jobs=None, penalty='l2', power_t=0.5,\n",
      "              random_state=None, shuffle=True, tol=0.001,\n",
      "              validation_fraction=0.1, verbose=0, warm_start=False) is [[551  17]\n",
      " [ 16   1]]\n",
      "Accuracy of DecisionTreeClassifier(class_weight=None, criterion='gini', max_depth=5,\n",
      "                       max_features=None, max_leaf_nodes=None,\n",
      "                       min_impurity_decrease=0.0, min_impurity_split=None,\n",
      "                       min_samples_leaf=1, min_samples_split=2,\n",
      "                       min_weight_fraction_leaf=0.0, presort=False,\n",
      "                       random_state=None, splitter='best') is 0.9606837606837607\n",
      "Confusion Matrix of DecisionTreeClassifier(class_weight=None, criterion='gini', max_depth=5,\n",
      "                       max_features=None, max_leaf_nodes=None,\n",
      "                       min_impurity_decrease=0.0, min_impurity_split=None,\n",
      "                       min_samples_leaf=1, min_samples_split=2,\n",
      "                       min_weight_fraction_leaf=0.0, presort=False,\n",
      "                       random_state=None, splitter='best') is [[557  11]\n",
      " [ 12   5]]\n",
      "Accuracy of GaussianNB(priors=None, var_smoothing=0.1) is 0.9709401709401709\n",
      "Confusion Matrix of GaussianNB(priors=None, var_smoothing=0.1) is [[568   0]\n",
      " [ 17   0]]\n",
      "Accuracy of ComplementNB(alpha=3.0, class_prior=None, fit_prior=False, norm=False) is 0.5948717948717949\n"
     ]
    },
    {
     "name": "stderr",
     "output_type": "stream",
     "text": [
      "/Users/bbabu/anaconda3/lib/python3.7/site-packages/sklearn/linear_model/logistic.py:432: FutureWarning: Default solver will be changed to 'lbfgs' in 0.22. Specify a solver to silence this warning.\n",
      "  FutureWarning)\n"
     ]
    },
    {
     "name": "stdout",
     "output_type": "stream",
     "text": [
      "Confusion Matrix of ComplementNB(alpha=3.0, class_prior=None, fit_prior=False, norm=False) is [[339 229]\n",
      " [  8   9]]\n",
      "Accuracy of KNeighborsClassifier(algorithm='auto', leaf_size=30, metric='minkowski',\n",
      "                     metric_params=None, n_jobs=None, n_neighbors=3, p=2,\n",
      "                     weights='uniform') is 0.9692307692307692\n",
      "Confusion Matrix of KNeighborsClassifier(algorithm='auto', leaf_size=30, metric='minkowski',\n",
      "                     metric_params=None, n_jobs=None, n_neighbors=3, p=2,\n",
      "                     weights='uniform') is [[563   5]\n",
      " [ 13   4]]\n",
      "Accuracy of RandomForestClassifier(bootstrap=False, class_weight=None, criterion='entropy',\n",
      "                       max_depth=10, max_features=6, max_leaf_nodes=None,\n",
      "                       min_impurity_decrease=0.0, min_impurity_split=None,\n",
      "                       min_samples_leaf=1, min_samples_split=2,\n",
      "                       min_weight_fraction_leaf=0.0, n_estimators=100,\n",
      "                       n_jobs=None, oob_score=False, random_state=None,\n",
      "                       verbose=0, warm_start=False) is 0.9675213675213675\n",
      "Confusion Matrix of RandomForestClassifier(bootstrap=False, class_weight=None, criterion='entropy',\n",
      "                       max_depth=10, max_features=6, max_leaf_nodes=None,\n",
      "                       min_impurity_decrease=0.0, min_impurity_split=None,\n",
      "                       min_samples_leaf=1, min_samples_split=2,\n",
      "                       min_weight_fraction_leaf=0.0, n_estimators=100,\n",
      "                       n_jobs=None, oob_score=False, random_state=None,\n",
      "                       verbose=0, warm_start=False) is [[561   7]\n",
      " [ 12   5]]\n",
      "Accuracy of XGBClassifier(base_score=0.5, booster='gbtree', colsample_bylevel=1,\n",
      "              colsample_bynode=1, colsample_bytree=1, gamma=0,\n",
      "              learning_rate=0.0001, max_delta_step=0, max_depth=30,\n",
      "              min_child_weight=1, missing=None, n_estimators=1000, n_jobs=1,\n",
      "              nthread=None, objective='binary:logistic', random_state=0,\n",
      "              reg_alpha=0, reg_lambda=1, scale_pos_weight=1, seed=14,\n",
      "              silent=None, subsample=1, verbosity=1) is 0.9777777777777777\n",
      "Confusion Matrix of XGBClassifier(base_score=0.5, booster='gbtree', colsample_bylevel=1,\n",
      "              colsample_bynode=1, colsample_bytree=1, gamma=0,\n",
      "              learning_rate=0.0001, max_delta_step=0, max_depth=30,\n",
      "              min_child_weight=1, missing=None, n_estimators=1000, n_jobs=1,\n",
      "              nthread=None, objective='binary:logistic', random_state=0,\n",
      "              reg_alpha=0, reg_lambda=1, scale_pos_weight=1, seed=14,\n",
      "              silent=None, subsample=1, verbosity=1) is [[568   0]\n",
      " [ 13   4]]\n",
      "Accuracy of SVC(C=0.025, cache_size=200, class_weight=None, coef0=0.0,\n",
      "    decision_function_shape='ovr', degree=3, gamma=2, kernel='linear',\n",
      "    max_iter=-1, probability=False, random_state=None, shrinking=True,\n",
      "    tol=0.001, verbose=False) is 0.9709401709401709\n",
      "Confusion Matrix of SVC(C=0.025, cache_size=200, class_weight=None, coef0=0.0,\n",
      "    decision_function_shape='ovr', degree=3, gamma=2, kernel='linear',\n",
      "    max_iter=-1, probability=False, random_state=None, shrinking=True,\n",
      "    tol=0.001, verbose=False) is [[568   0]\n",
      " [ 17   0]]\n",
      "Accuracy of DecisionTreeClassifier(class_weight=None, criterion='gini', max_depth=None,\n",
      "                       max_features=None, max_leaf_nodes=None,\n",
      "                       min_impurity_decrease=0.0, min_impurity_split=None,\n",
      "                       min_samples_leaf=1, min_samples_split=2,\n",
      "                       min_weight_fraction_leaf=0.0, presort=False,\n",
      "                       random_state=None, splitter='best') is 0.9572649572649573\n",
      "Confusion Matrix of DecisionTreeClassifier(class_weight=None, criterion='gini', max_depth=None,\n",
      "                       max_features=None, max_leaf_nodes=None,\n",
      "                       min_impurity_decrease=0.0, min_impurity_split=None,\n",
      "                       min_samples_leaf=1, min_samples_split=2,\n",
      "                       min_weight_fraction_leaf=0.0, presort=False,\n",
      "                       random_state=None, splitter='best') is [[555  13]\n",
      " [ 12   5]]\n",
      "Accuracy of RandomForestClassifier(bootstrap=False, class_weight=None, criterion='entropy',\n",
      "                       max_depth=10, max_features=6, max_leaf_nodes=None,\n",
      "                       min_impurity_decrease=0.0, min_impurity_split=None,\n",
      "                       min_samples_leaf=1, min_samples_split=2,\n",
      "                       min_weight_fraction_leaf=0.0, n_estimators=100,\n",
      "                       n_jobs=None, oob_score=False, random_state=None,\n",
      "                       verbose=0, warm_start=False) is 0.9675213675213675\n",
      "Confusion Matrix of RandomForestClassifier(bootstrap=False, class_weight=None, criterion='entropy',\n",
      "                       max_depth=10, max_features=6, max_leaf_nodes=None,\n",
      "                       min_impurity_decrease=0.0, min_impurity_split=None,\n",
      "                       min_samples_leaf=1, min_samples_split=2,\n",
      "                       min_weight_fraction_leaf=0.0, n_estimators=100,\n",
      "                       n_jobs=None, oob_score=False, random_state=None,\n",
      "                       verbose=0, warm_start=False) is [[561   7]\n",
      " [ 12   5]]\n",
      "Accuracy of GaussianNB(priors=None, var_smoothing=0.1) is 0.9709401709401709\n",
      "Confusion Matrix of GaussianNB(priors=None, var_smoothing=0.1) is [[568   0]\n",
      " [ 17   0]]\n",
      "Accuracy of KNeighborsClassifier(algorithm='auto', leaf_size=30, metric='minkowski',\n",
      "                     metric_params=None, n_jobs=None, n_neighbors=5, p=2,\n",
      "                     weights='uniform') is 0.9675213675213675\n",
      "Confusion Matrix of KNeighborsClassifier(algorithm='auto', leaf_size=30, metric='minkowski',\n",
      "                     metric_params=None, n_jobs=None, n_neighbors=5, p=2,\n",
      "                     weights='uniform') is [[562   6]\n",
      " [ 13   4]]\n",
      "Accuracy of ComplementNB(alpha=3.0, class_prior=None, fit_prior=False, norm=False) is 0.5948717948717949\n",
      "Confusion Matrix of ComplementNB(alpha=3.0, class_prior=None, fit_prior=False, norm=False) is [[339 229]\n",
      " [  8   9]]\n",
      "Accuracy of LogisticRegression(C=1.0, class_weight=None, dual=False, fit_intercept=True,\n",
      "                   intercept_scaling=1, l1_ratio=None, max_iter=100,\n",
      "                   multi_class='warn', n_jobs=None, penalty='l2',\n",
      "                   random_state=None, solver='warn', tol=0.0001, verbose=0,\n",
      "                   warm_start=False) is 0.9709401709401709\n",
      "Confusion Matrix of LogisticRegression(C=1.0, class_weight=None, dual=False, fit_intercept=True,\n",
      "                   intercept_scaling=1, l1_ratio=None, max_iter=100,\n",
      "                   multi_class='warn', n_jobs=None, penalty='l2',\n",
      "                   random_state=None, solver='warn', tol=0.0001, verbose=0,\n",
      "                   warm_start=False) is [[568   0]\n",
      " [ 17   0]]\n",
      "Accuracy of SGDClassifier(alpha=0.0001, average=False, class_weight=None,\n",
      "              early_stopping=False, epsilon=0.1, eta0=0.0, fit_intercept=True,\n",
      "              l1_ratio=0.15, learning_rate='optimal', loss='log', max_iter=500,\n",
      "              n_iter_no_change=5, n_jobs=None, penalty='l2', power_t=0.5,\n",
      "              random_state=None, shuffle=True, tol=0.001,\n",
      "              validation_fraction=0.1, verbose=0, warm_start=False) is 0.9606837606837607\n",
      "Confusion Matrix of SGDClassifier(alpha=0.0001, average=False, class_weight=None,\n",
      "              early_stopping=False, epsilon=0.1, eta0=0.0, fit_intercept=True,\n",
      "              l1_ratio=0.15, learning_rate='optimal', loss='log', max_iter=500,\n",
      "              n_iter_no_change=5, n_jobs=None, penalty='l2', power_t=0.5,\n",
      "              random_state=None, shuffle=True, tol=0.001,\n",
      "              validation_fraction=0.1, verbose=0, warm_start=False) is [[561   7]\n",
      " [ 16   1]]\n",
      "Accuracy of SGDClassifier(alpha=0.0001, average=False, class_weight=None,\n",
      "              early_stopping=False, epsilon=0.1, eta0=0.0, fit_intercept=True,\n",
      "              l1_ratio=0.15, learning_rate='optimal', loss='hinge', max_iter=50,\n",
      "              n_iter_no_change=5, n_jobs=None, penalty='l2', power_t=0.5,\n",
      "              random_state=None, shuffle=True, tol=0.001,\n",
      "              validation_fraction=0.1, verbose=0, warm_start=False) is 0.9606837606837607\n",
      "Confusion Matrix of SGDClassifier(alpha=0.0001, average=False, class_weight=None,\n",
      "              early_stopping=False, epsilon=0.1, eta0=0.0, fit_intercept=True,\n",
      "              l1_ratio=0.15, learning_rate='optimal', loss='hinge', max_iter=50,\n",
      "              n_iter_no_change=5, n_jobs=None, penalty='l2', power_t=0.5,\n",
      "              random_state=None, shuffle=True, tol=0.001,\n",
      "              validation_fraction=0.1, verbose=0, warm_start=False) is [[562   6]\n",
      " [ 17   0]]\n"
     ]
    },
    {
     "name": "stderr",
     "output_type": "stream",
     "text": [
      "/Users/bbabu/anaconda3/lib/python3.7/site-packages/sklearn/linear_model/logistic.py:432: FutureWarning: Default solver will be changed to 'lbfgs' in 0.22. Specify a solver to silence this warning.\n",
      "  FutureWarning)\n"
     ]
    }
   ],
   "source": [
    "for clf in classifiers:\n",
    "    clf.fit(X_train, y_train)\n",
    "    y_pred= clf.predict(X_test)\n",
    "    acc = accuracy_score(y_test, y_pred)\n",
    "    print(\"Accuracy of %s is %s\"%(clf, acc))\n",
    "    cm = confusion_matrix(y_test, y_pred)\n",
    "    print(\"Confusion Matrix of %s is %s\"%(clf, cm))"
   ]
  },
  {
   "cell_type": "code",
   "execution_count": 12,
   "metadata": {},
   "outputs": [
    {
     "data": {
      "text/plain": [
       "XGBClassifier(base_score=0.5, booster='gbtree', colsample_bylevel=1,\n",
       "              colsample_bynode=1, colsample_bytree=1, gamma=0,\n",
       "              learning_rate=0.0001, max_delta_step=0, max_depth=30,\n",
       "              min_child_weight=1, missing=None, n_estimators=1000, n_jobs=1,\n",
       "              nthread=None, objective='binary:logistic', random_state=0,\n",
       "              reg_alpha=0, reg_lambda=1, scale_pos_weight=1, seed=14,\n",
       "              silent=None, subsample=1, verbosity=1)"
      ]
     },
     "execution_count": 12,
     "metadata": {},
     "output_type": "execute_result"
    }
   ],
   "source": [
    "import pickle\n",
    "# cart_model = tree.DecisionTreeClassifier() #may be\n",
    "# cart_model = GaussianNB(priors=[0.95, 0.05], var_smoothing=1e-01) #le-01 is final, this is better\n",
    "# cart_model = GaussianNB(priors=None, var_smoothing=1e-01) #le-01 is final\n",
    "# cart_model = ComplementNB(alpha=3.0, class_prior=None, fit_prior=True, norm=False) #do not use\n",
    "# cart_model  = KNeighborsClassifier() #Do not use\n",
    "# cart_model = RandomForestClassifier(max_depth=10, n_estimators=100, max_features=6, verbose=0, bootstrap=False, criterion='entropy') #may be\n",
    "cart_model = xgboost.XGBClassifier(learning_rate=0.0001, max_depth=30, n_estimators=1000, seed=14, booster='gbtree') #Do not use\n",
    "# cart_model = svm.SVC(kernel=\"linear\", C=0.025, gamma=2) #Do not use\n",
    "# cart_model = LogisticRegression() #Do not use\n",
    "#cart_model = SGDClassifier(loss=\"log\", penalty=\"l2\", max_iter=50)\n",
    "cart_model.fit(X_train, y_train)"
   ]
  },
  {
   "cell_type": "code",
   "execution_count": 13,
   "metadata": {},
   "outputs": [],
   "source": [
    "# Save model to disk\n",
    "filename = path/'Final_Model-Multi.sav'\n",
    "pickle.dump(cart_model, open(filename, 'wb'))"
   ]
  },
  {
   "cell_type": "code",
   "execution_count": 14,
   "metadata": {},
   "outputs": [],
   "source": [
    "# Load model from disk and use it to make new predictions\n",
    "loaded_model = pickle.load(open(filename, 'rb'))\n",
    "result = loaded_model.score(X_test, y_test)\n",
    "#print(result)"
   ]
  },
  {
   "cell_type": "code",
   "execution_count": 15,
   "metadata": {},
   "outputs": [],
   "source": [
    "le = preprocessing.LabelEncoder()\n",
    "\n",
    "categorical = list(df_test_2.select_dtypes(include=['object']).columns.values)\n",
    "for cat in categorical:\n",
    "    #print(cat)\n",
    "    df_test_2[cat].fillna('N/A', inplace=True)\n",
    "    df_test_2[cat] = le.fit_transform(df_test_2[cat].astype(str))\n",
    "\n",
    "# #convert the categorical columns into numeric\n",
    "# df_test['GroupDN'] = le.fit_transform(df_test['GroupDN'])\n",
    "# df_test['Member'] = le.fit_transform(df_test['Member'])\n",
    "# df_test['BusinessGroup'] = le.fit_transform(df_test['BusinessGroup'])\n",
    "# df_test['Platform'] = le.fit_transform(df_test['Platform'])\n",
    "# #df_test['Title'] = le.fit_transform(df_test['Title'])\n",
    "# #df_test['Department'] = le.fit_transform(df_test['Department'])\n",
    "# df_test['Country'] = le.fit_transform(df_test['Country'])\n",
    "# #df_test['State'] = le.fit_transform(df_test['State'])\n",
    "# df_test['City'] = le.fit_transform(df_test['City'])\n",
    "# #display the initial records\n",
    "# #df_test.head()"
   ]
  },
  {
   "cell_type": "code",
   "execution_count": 16,
   "metadata": {},
   "outputs": [
    {
     "name": "stdout",
     "output_type": "stream",
     "text": [
      "[0 0 0 0 ... 0 0 0 0]\n",
      "0.9777777777777777\n"
     ]
    },
    {
     "data": {
      "text/plain": [
       "1"
      ]
     },
     "execution_count": 16,
     "metadata": {},
     "output_type": "execute_result"
    }
   ],
   "source": [
    "X_train = df_test_2\n",
    "pred = cart_model.predict(X_train)\n",
    "print(pred)\n",
    "print(result)\n",
    "pred.sum()"
   ]
  },
  {
   "cell_type": "code",
   "execution_count": 17,
   "metadata": {},
   "outputs": [
    {
     "data": {
      "text/plain": [
       "Title            0.612332\n",
       "Platform         0.230603\n",
       "GroupDN          0.157043\n",
       "Department       0.000021\n",
       "City             0.000000\n",
       "Country          0.000000\n",
       "BusinessGroup    0.000000\n",
       "Manager          0.000000\n",
       "Member           0.000000\n",
       "dtype: float32"
      ]
     },
     "execution_count": 17,
     "metadata": {},
     "output_type": "execute_result"
    }
   ],
   "source": [
    "feature_imp = pd.Series(cart_model.feature_importances_,index=df_test.columns.values).sort_values(ascending=False)\n",
    "feature_imp"
   ]
  },
  {
   "cell_type": "code",
   "execution_count": 18,
   "metadata": {},
   "outputs": [],
   "source": [
    "#df_test['Member']"
   ]
  },
  {
   "cell_type": "code",
   "execution_count": 19,
   "metadata": {},
   "outputs": [],
   "source": [
    "#df_test['Member'] = le.inverse_transform(df_test['Member'])\n",
    "final_df = pd.DataFrame({'GroupDN': df_test['GroupDN'],'Member': df_test['Member'], 'Manager': df_test['Manager'], 'Owner': pred})\n",
    "final_df.to_csv(path/'MLProcessed1-Sklearn-Multi.csv', header=True, index=False)"
   ]
  },
  {
   "cell_type": "code",
   "execution_count": null,
   "metadata": {},
   "outputs": [],
   "source": []
  }
 ],
 "metadata": {
  "kernelspec": {
   "display_name": "Python 3",
   "language": "python",
   "name": "python3"
  },
  "language_info": {
   "codemirror_mode": {
    "name": "ipython",
    "version": 3
   },
   "file_extension": ".py",
   "mimetype": "text/x-python",
   "name": "python",
   "nbconvert_exporter": "python",
   "pygments_lexer": "ipython3",
   "version": "3.7.3"
  }
 },
 "nbformat": 4,
 "nbformat_minor": 2
}
