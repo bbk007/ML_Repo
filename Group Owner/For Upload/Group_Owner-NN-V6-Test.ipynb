{
 "cells": [
  {
   "cell_type": "code",
   "execution_count": 1,
   "metadata": {},
   "outputs": [
    {
     "name": "stderr",
     "output_type": "stream",
     "text": [
      "Using TensorFlow backend.\n"
     ]
    }
   ],
   "source": [
    "from fastai.tabular import *\n",
    "import os\n",
    "import pandas as pd \n",
    "import numpy as np\n",
    "from sklearn.metrics import accuracy_score, confusion_matrix\n",
    "# from sklearn.ensemble import RandomForestClassifier\n",
    "# from sklearn.naive_bayes import GaussianNB\n",
    "# from sklearn.naive_bayes import ComplementNB\n",
    "# from sklearn import svm, tree\n",
    "# import xgboost\n",
    "from sklearn.model_selection import train_test_split\n",
    "from sklearn import preprocessing\n",
    "# from sklearn.neighbors import KNeighborsClassifier\n",
    "\n",
    "# from sklearn.linear_model import LogisticRegression\n",
    "# from sklearn.linear_model import SGDClassifier\n",
    "# from sklearn.kernel_approximation import RBFSampler\n",
    "\n",
    "\n",
    "# from sklearn import model_selection\n",
    "from pandas.plotting import scatter_matrix\n",
    "import matplotlib.pyplot as plt\n",
    "\n",
    "# from xgboost import plot_importance\n",
    "# from xgboost import plot_tree\n",
    "# import xgboost as xgb\n",
    "\n",
    "import pickle\n",
    "from sklearn.preprocessing import StandardScaler\n",
    "from sklearn.metrics import log_loss\n",
    "from sklearn.metrics import classification_report\n",
    "\n",
    "\n",
    "import keras\n",
    "from keras.models import Sequential\n",
    "from keras.layers import Dense\n",
    "\n",
    "import tensorflow.python.util.deprecation as deprecation\n",
    "deprecation._PRINT_DEPRECATION_WARNINGS = False\n",
    "pd.set_option('mode.chained_assignment', None)\n"
   ]
  },
  {
   "cell_type": "code",
   "execution_count": 2,
   "metadata": {},
   "outputs": [],
   "source": [
    "path = Path('/Users/bbabu/fastai/DataSamples')"
   ]
  },
  {
   "cell_type": "code",
   "execution_count": 3,
   "metadata": {},
   "outputs": [],
   "source": [
    "# df_test = pd.read_csv(path/'Test-Group-2.csv', sep=',', header=0)\n",
    "# df_test_2s = pd.read_csv(path/'Test-Group-2.csv', sep=',', header=0)"
   ]
  },
  {
   "cell_type": "code",
   "execution_count": 4,
   "metadata": {},
   "outputs": [],
   "source": [
    "# df_test = pd.read_csv(path/'Groups_with_Owners-V3a.csv', sep=';', header=0)\n",
    "# df_test_2s = pd.read_csv(path/'Groups_with_Owners-V3a.csv', sep=';', header=0)"
   ]
  },
  {
   "cell_type": "code",
   "execution_count": 5,
   "metadata": {},
   "outputs": [],
   "source": [
    "df_test = pd.read_csv(path/'Groups_with_Owners-V1a.csv', sep=';', header=0)\n",
    "df_test_2s = pd.read_csv(path/'Groups_with_Owners-V1a.csv', sep=';', header=0)"
   ]
  },
  {
   "cell_type": "code",
   "execution_count": 6,
   "metadata": {},
   "outputs": [],
   "source": [
    "df_test = df_test.head(77)\n",
    "df_test_2s = df_test.head(77)\n",
    "\n",
    "# df_test = df_test.head(77)\n",
    "# df_test_2s = df_test.head(77)\n",
    "# df_test_2s.tail()"
   ]
  },
  {
   "cell_type": "code",
   "execution_count": 7,
   "metadata": {},
   "outputs": [],
   "source": [
    "# df_test.to_csv(path/'Test77.csv', header=True, index=False)"
   ]
  },
  {
   "cell_type": "code",
   "execution_count": 8,
   "metadata": {},
   "outputs": [],
   "source": [
    "# df_test = pd.read_csv(path/'Test-Group-1.csv', sep=',', header=0)\n",
    "# df_test_2s = pd.read_csv(path/'Test-Group-1.csv', sep=',', header=0)"
   ]
  },
  {
   "cell_type": "code",
   "execution_count": 9,
   "metadata": {},
   "outputs": [],
   "source": [
    "# print(df_test)"
   ]
  },
  {
   "cell_type": "code",
   "execution_count": 10,
   "metadata": {},
   "outputs": [],
   "source": [
    "# df_test.drop(['Description', 'MemberDN', 'State', 'Owner'], axis=1, inplace=True)\n",
    "df_test.drop(['MemberDN', 'State'], axis=1, inplace=True)\n",
    "df_test_2s.drop(['Description', 'MemberDN', 'State', 'Owner'], axis=1, inplace=True)"
   ]
  },
  {
   "cell_type": "code",
   "execution_count": 11,
   "metadata": {},
   "outputs": [],
   "source": [
    "# df_test.drop(['GroupCountry'], axis=1, inplace=True)\n",
    "# df_test_2s.drop(['GroupCountry'], axis=1, inplace=True)"
   ]
  },
  {
   "cell_type": "code",
   "execution_count": 12,
   "metadata": {},
   "outputs": [],
   "source": [
    "# df_test.drop(['GroupCountry', 'GroupDomain', 'Domain'], axis=1, inplace=True)\n",
    "# df_test_2s.drop(['GroupCountry', 'GroupDomain', 'Domain'], axis=1, inplace=True)"
   ]
  },
  {
   "cell_type": "code",
   "execution_count": 13,
   "metadata": {},
   "outputs": [],
   "source": [
    "df_test.drop_duplicates(keep='first',inplace=True) \n",
    "df_test_2s.drop_duplicates(keep='first',inplace=True) "
   ]
  },
  {
   "cell_type": "code",
   "execution_count": 14,
   "metadata": {},
   "outputs": [],
   "source": [
    "df_tests = df_test_2s.groupby(['GroupDN'], as_index=False)"
   ]
  },
  {
   "cell_type": "code",
   "execution_count": 16,
   "metadata": {
    "scrolled": true
   },
   "outputs": [
    {
     "name": "stdout",
     "output_type": "stream",
     "text": [
      "Predicated Owner for the group _Disabled msbgsofi001~BgbsofiData~AR~m is d476776 with title CTC Team Manager Collections\n",
      "Predicated Owner for the group _GIHS Requirements User is a908168 with title Data Center: Wintel System Administrator\n",
      "Predicated Owner for the group _ROLES_NA_US_SPECIALTY_CRUSH_LEADERS is j116838 with title Depositing/Packaging Op 1 - Hazleton - CCNA - 1st Shift\n"
     ]
    }
   ],
   "source": [
    "i = 0\n",
    "for name, df_test_2 in df_tests:\n",
    "    df_test = df_test_2.copy()\n",
    "    le = preprocessing.LabelEncoder()\n",
    "    categorical = list(df_test_2.select_dtypes(include=['object']).columns.values)\n",
    "    for cat in categorical:\n",
    "        df_test_2[cat].fillna('NaN', inplace=True)\n",
    "        df_test_2[cat] = le.fit_transform(df_test_2[cat].astype(str))\n",
    "    \n",
    "    filename = path/'Final_Model-NN-V5.sav'\n",
    "#     filename = path/'Final_Model-NN.sav'\n",
    "    loaded_model = pickle.load(open(filename, 'rb'))\n",
    "    \n",
    "    sc = StandardScaler()    \n",
    "    X_test = df_test_2\n",
    "    X_test = sc.fit_transform(X_test)\n",
    "    pred = loaded_model.predict(X_test)\n",
    "    if pred.sum() == 0:\n",
    "        i += 1\n",
    "    \n",
    "    final_df = pd.DataFrame({'GroupDN': df_test['GroupDN'],'Member': df_test['Member'], 'Manager': df_test['Manager'], 'Title': df_test['Title'], 'Platform': df_test['Platform'], 'City': df_test['City'], 'Owner': pred[:, 0]})\n",
    "    out = final_df.loc[final_df['Owner'].idxmax()]\n",
    "    final_df.sort_values(['Owner'], inplace=True, ascending=False)\n",
    "    final_df.to_csv(path/\"\".join([(out[0].split(',')[0].replace(\"CN=\",\"\")),'.csv']), header=True, index=False)\n",
    "    print(\"Predicated Owner for the group %s is %s with title %s\"%((out[0].split(',')[0].replace(\"CN=\",\"\")), out[1], out[3]))\n",
    "\n",
    "\n",
    "\n",
    "\n",
    "# final_df = pd.DataFrame({'GroupDN': df_test['GroupDN'],'Member': df_test['Member'], 'Manager': df_test['Manager'], 'Owner': pred[:, 0]})\n",
    "# final_df.to_csv(path/'MLProcessed1-NN-Test.csv', header=True, index=False)\n",
    "# out = final_df.loc[final_df['Owner'].idxmax()]\n",
    "# print(\"Predicated Owner for the group %s is %s with value %s\"%(out[0], out[1], out[3]))\n",
    "\n"
   ]
  },
  {
   "cell_type": "code",
   "execution_count": null,
   "metadata": {},
   "outputs": [],
   "source": []
  }
 ],
 "metadata": {
  "kernelspec": {
   "display_name": "Python 3",
   "language": "python",
   "name": "python3"
  },
  "language_info": {
   "codemirror_mode": {
    "name": "ipython",
    "version": 3
   },
   "file_extension": ".py",
   "mimetype": "text/x-python",
   "name": "python",
   "nbconvert_exporter": "python",
   "pygments_lexer": "ipython3",
   "version": "3.7.3"
  }
 },
 "nbformat": 4,
 "nbformat_minor": 2
}
