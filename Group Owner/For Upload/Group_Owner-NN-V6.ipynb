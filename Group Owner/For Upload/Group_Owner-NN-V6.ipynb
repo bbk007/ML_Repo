{
 "cells": [
  {
   "cell_type": "code",
   "execution_count": 1,
   "metadata": {},
   "outputs": [],
   "source": [
    "# https://scikit-learn.org/stable/tutorial/machine_learning_map/index.html\n",
    "# https://medium.com/datadriveninvestor/choosing-the-best-algorithm-for-your-classification-model-7c632c78f38f\n",
    "# https://scikit-learn.org/stable/auto_examples/classification/plot_classifier_comparison.html\n",
    "# https://www.dataquest.io/blog/sci-kit-learn-tutorial/\n",
    "# https://datascience.stackexchange.com/questions/33256/how-to-apply-machine-learning-model-to-new-dataset\n",
    "# https://speakerdeck.com/datasciencela/tianqi-chen-xgboost-overview-and-latest-news-la-meetup-talk?slide=33\n",
    "# https://github.com/ritvikkhanna09/Census-classifier-comparison/blob/master/NeuralNetworks.ipynb\n",
    "# https://towardsdatascience.com/k-as-in-keras-simple-classification-model-a9d2d23d5b5a"
   ]
  },
  {
   "cell_type": "code",
   "execution_count": 2,
   "metadata": {},
   "outputs": [
    {
     "name": "stderr",
     "output_type": "stream",
     "text": [
      "Using TensorFlow backend.\n"
     ]
    }
   ],
   "source": [
    "from fastai.tabular import *\n",
    "import os\n",
    "import pandas as pd \n",
    "import numpy as np\n",
    "from sklearn.metrics import accuracy_score, confusion_matrix\n",
    "from sklearn.ensemble import RandomForestClassifier\n",
    "from sklearn.naive_bayes import GaussianNB\n",
    "from sklearn.naive_bayes import ComplementNB\n",
    "from sklearn import svm, tree\n",
    "import xgboost\n",
    "from sklearn.model_selection import train_test_split\n",
    "from sklearn import preprocessing\n",
    "from sklearn.neighbors import KNeighborsClassifier\n",
    "\n",
    "from sklearn.linear_model import LogisticRegression\n",
    "from sklearn.linear_model import SGDClassifier\n",
    "from sklearn.kernel_approximation import RBFSampler\n",
    "\n",
    "\n",
    "from sklearn import model_selection\n",
    "from pandas.plotting import scatter_matrix\n",
    "import matplotlib.pyplot as plt\n",
    "\n",
    "from xgboost import plot_importance\n",
    "from xgboost import plot_tree\n",
    "import xgboost as xgb\n",
    "\n",
    "import pickle\n",
    "from sklearn.preprocessing import StandardScaler\n",
    "from sklearn.metrics import log_loss\n",
    "from sklearn.metrics import classification_report\n",
    "\n",
    "\n",
    "import keras\n",
    "from keras.models import Sequential\n",
    "from keras.layers import Dense, Dropout\n",
    "from keras.regularizers import l2"
   ]
  },
  {
   "cell_type": "code",
   "execution_count": 3,
   "metadata": {},
   "outputs": [],
   "source": [
    "path = Path('/Users/bbabu/fastai/DataSamples')"
   ]
  },
  {
   "cell_type": "code",
   "execution_count": 4,
   "metadata": {},
   "outputs": [],
   "source": [
    "# data = pd.read_csv(path/'Groups_with_Owners-V1.csv', sep=';', header=0)\n",
    "# data['Owner'].replace(['No','Yes'],[0,1],inplace=True)\n",
    "# data = data[data.groupby('GroupDN')['Owner'].transform(lambda x: x.sum() >= 1)]\n",
    "# data['Owner'].replace([0,1],['No','Yes'],inplace=True)\n",
    "# data.to_csv(path/'Groups_with_Owners-V1a.csv', header=True, index=False, sep=';')"
   ]
  },
  {
   "cell_type": "code",
   "execution_count": 5,
   "metadata": {},
   "outputs": [],
   "source": [
    "# df_test = pd.read_csv(path/'Test-Group-2.csv', sep=',', header=0)\n",
    "# df_test_2 = pd.read_csv(path/'Test-Group-2.csv', sep=',', header=0)"
   ]
  },
  {
   "cell_type": "code",
   "execution_count": 6,
   "metadata": {},
   "outputs": [],
   "source": [
    "# data = pd.read_csv(path/'Groups_with_Owners-V2.csv', sep=',', header=0)\n",
    "# df_test = pd.read_csv(path/'Groups_without_Owners-V2.csv', sep=',', header=0)\n",
    "# df_test_2 = pd.read_csv(path/'Groups_without_Owners-V2.csv', sep=',', header=0)"
   ]
  },
  {
   "cell_type": "code",
   "execution_count": 7,
   "metadata": {},
   "outputs": [],
   "source": [
    "data = pd.read_csv(path/'Groups_with_Owners-V1a.csv', sep=';', header=0)\n",
    "df_test = pd.read_csv(path/'Groups_without_Owners-V1.csv', sep=';', header=0)\n",
    "df_test_2 = pd.read_csv(path/'Groups_without_Owners-V1.csv', sep=';', header=0)"
   ]
  },
  {
   "cell_type": "code",
   "execution_count": 8,
   "metadata": {},
   "outputs": [],
   "source": [
    "data.drop(['Description', 'MemberDN', 'State'], axis=1, inplace=True)\n",
    "df_test.drop(['Description', 'MemberDN', 'State', 'Owner'], axis=1, inplace=True)\n",
    "df_test_2.drop(['Description', 'MemberDN', 'State', 'Owner'], axis=1, inplace=True)"
   ]
  },
  {
   "cell_type": "code",
   "execution_count": 9,
   "metadata": {},
   "outputs": [],
   "source": [
    "# data.drop(['GroupCountry', 'GroupDomain', 'Domain'], axis=1, inplace=True)\n",
    "# df_test.drop(['GroupCountry', 'GroupDomain', 'Domain'], axis=1, inplace=True)\n",
    "# df_test_2.drop(['GroupCountry', 'GroupDomain', 'Domain'], axis=1, inplace=True)"
   ]
  },
  {
   "cell_type": "code",
   "execution_count": 10,
   "metadata": {},
   "outputs": [],
   "source": [
    "# data.drop(['GroupCountry'], axis=1, inplace=True)\n",
    "# df_test.drop(['GroupCountry'], axis=1, inplace=True)\n",
    "# df_test_2.drop(['GroupCountry'], axis=1, inplace=True)"
   ]
  },
  {
   "cell_type": "code",
   "execution_count": 11,
   "metadata": {},
   "outputs": [],
   "source": [
    "data.drop_duplicates(keep='first',inplace=True) \n",
    "df_test.drop_duplicates(keep='first',inplace=True)\n",
    "df_test_2.drop_duplicates(keep='first',inplace=True) "
   ]
  },
  {
   "cell_type": "code",
   "execution_count": 12,
   "metadata": {},
   "outputs": [
    {
     "data": {
      "text/plain": [
       "6645350"
      ]
     },
     "execution_count": 12,
     "metadata": {},
     "output_type": "execute_result"
    }
   ],
   "source": [
    "data.size"
   ]
  },
  {
   "cell_type": "code",
   "execution_count": 13,
   "metadata": {},
   "outputs": [],
   "source": [
    "# print(data.dtypes)\n",
    "# print(df_test.dtypes)\n",
    "# print(df_test_2.dtypes)"
   ]
  },
  {
   "cell_type": "code",
   "execution_count": 14,
   "metadata": {},
   "outputs": [],
   "source": [
    "le = preprocessing.LabelEncoder()\n",
    "categorical = list(data.select_dtypes(include=['object']).columns.values)\n",
    "for cat in categorical:\n",
    "    #print(cat)\n",
    "    data[cat].fillna('NaN', inplace=True)\n",
    "    data[cat] = le.fit_transform(data[cat].astype(str))\n"
   ]
  },
  {
   "cell_type": "code",
   "execution_count": 15,
   "metadata": {},
   "outputs": [],
   "source": [
    "le = preprocessing.LabelEncoder()\n",
    "\n",
    "categorical = list(df_test_2.select_dtypes(include=['object']).columns.values)\n",
    "for cat in categorical:\n",
    "    #print(cat)\n",
    "    df_test_2[cat].fillna('NaN', inplace=True)\n",
    "    df_test_2[cat] = le.fit_transform(df_test_2[cat].astype(str))\n"
   ]
  },
  {
   "cell_type": "code",
   "execution_count": 16,
   "metadata": {},
   "outputs": [],
   "source": [
    "# data.set_index('GroupDN', drop=False, inplace=True)"
   ]
  },
  {
   "cell_type": "code",
   "execution_count": 17,
   "metadata": {},
   "outputs": [],
   "source": [
    "#Create Dependent and Independent Datasets based on our Dependent #and Independent features\n",
    "# X = data[['GroupDN', 'Member', 'Manager', 'BusinessGroup', 'Platform', 'Title', 'Department', 'Country', 'City', 'GroupCountry', 'GroupDomain', 'Domain']]\n",
    "# X = data[['GroupDN', 'Member', 'Manager', 'BusinessGroup', 'Platform', 'Title', 'Department', 'Country', 'City', 'GroupDomain', 'Domain']].values\n",
    "X = data[['GroupDN', 'Member', 'Manager', 'BusinessGroup', 'Platform', 'Title', 'Department', 'Country', 'City']]\n",
    "y = data['Owner'].values\n",
    "#Split the Data into Training and Testing sets with test size as #33%\n",
    "X_train, X_test, y_train, y_test = train_test_split(X,y,test_size=0.33, shuffle=False)\n",
    "eval_set = [(X_train, y_train), (X_test, y_test)]"
   ]
  },
  {
   "cell_type": "code",
   "execution_count": 18,
   "metadata": {},
   "outputs": [],
   "source": [
    "sc = StandardScaler()\n",
    "X_train = sc.fit_transform(X_train)\n",
    "X_test = sc.transform(X_test)"
   ]
  },
  {
   "cell_type": "code",
   "execution_count": 19,
   "metadata": {},
   "outputs": [],
   "source": [
    "# X_train.values"
   ]
  },
  {
   "cell_type": "code",
   "execution_count": 20,
   "metadata": {},
   "outputs": [],
   "source": [
    "# data.reindex(columns=)"
   ]
  },
  {
   "cell_type": "code",
   "execution_count": 21,
   "metadata": {},
   "outputs": [
    {
     "name": "stdout",
     "output_type": "stream",
     "text": [
      "WARNING:tensorflow:From /Users/bbabu/anaconda3/lib/python3.7/site-packages/tensorflow/python/ops/resource_variable_ops.py:435: colocate_with (from tensorflow.python.framework.ops) is deprecated and will be removed in a future version.\n",
      "Instructions for updating:\n",
      "Colocations handled automatically by placer.\n",
      "WARNING:tensorflow:From /Users/bbabu/anaconda3/lib/python3.7/site-packages/tensorflow/python/ops/math_ops.py:3066: to_int32 (from tensorflow.python.ops.math_ops) is deprecated and will be removed in a future version.\n",
      "Instructions for updating:\n",
      "Use tf.cast instead.\n"
     ]
    },
    {
     "name": "stderr",
     "output_type": "stream",
     "text": [
      "/Users/bbabu/anaconda3/lib/python3.7/site-packages/ipykernel_launcher.py:4: UserWarning: Update your `Dense` call to the Keras 2 API: `Dense(activation=\"relu\", input_dim=9, units=100, kernel_initializer=\"uniform\")`\n",
      "  after removing the cwd from sys.path.\n",
      "/Users/bbabu/anaconda3/lib/python3.7/site-packages/ipykernel_launcher.py:6: UserWarning: Update your `Dense` call to the Keras 2 API: `Dense(activation=\"relu\", units=100, kernel_initializer=\"uniform\")`\n",
      "  \n",
      "/Users/bbabu/anaconda3/lib/python3.7/site-packages/ipykernel_launcher.py:7: UserWarning: Update your `Dense` call to the Keras 2 API: `Dense(activation=\"relu\", units=100, kernel_initializer=\"uniform\")`\n",
      "  import sys\n",
      "/Users/bbabu/anaconda3/lib/python3.7/site-packages/ipykernel_launcher.py:9: UserWarning: Update your `Dense` call to the Keras 2 API: `Dense(activation=\"sigmoid\", units=1, kernel_initializer=\"uniform\")`\n",
      "  if __name__ == '__main__':\n"
     ]
    },
    {
     "name": "stdout",
     "output_type": "stream",
     "text": [
      "Epoch 1/100\n",
      "445238/445238 [==============================] - 529s 1ms/step - loss: 0.1622 - accuracy: 0.9585\n",
      "Epoch 2/100\n",
      "445238/445238 [==============================] - 526s 1ms/step - loss: 0.1579 - accuracy: 0.9585\n",
      "Epoch 3/100\n",
      "445238/445238 [==============================] - 547s 1ms/step - loss: 0.1558 - accuracy: 0.9586\n",
      "Epoch 4/100\n",
      "445238/445238 [==============================] - 562s 1ms/step - loss: 0.1544 - accuracy: 0.9587\n",
      "Epoch 5/100\n",
      "445238/445238 [==============================] - 562s 1ms/step - loss: 0.1533 - accuracy: 0.9586\n",
      "Epoch 6/100\n",
      "445238/445238 [==============================] - 565s 1ms/step - loss: 0.1522 - accuracy: 0.9587\n",
      "Epoch 7/100\n",
      "445238/445238 [==============================] - 568s 1ms/step - loss: 0.1517 - accuracy: 0.9587\n",
      "Epoch 8/100\n",
      "445238/445238 [==============================] - 563s 1ms/step - loss: 0.1509 - accuracy: 0.9587\n",
      "Epoch 9/100\n",
      "445238/445238 [==============================] - 567s 1ms/step - loss: 0.1502 - accuracy: 0.9588\n",
      "Epoch 10/100\n",
      "445238/445238 [==============================] - 568s 1ms/step - loss: 0.1498 - accuracy: 0.9588\n",
      "Epoch 11/100\n",
      "445238/445238 [==============================] - 566s 1ms/step - loss: 0.1495 - accuracy: 0.9588\n",
      "Epoch 12/100\n",
      "445238/445238 [==============================] - 565s 1ms/step - loss: 0.1493 - accuracy: 0.9588\n",
      "Epoch 13/100\n",
      "445238/445238 [==============================] - 568s 1ms/step - loss: 0.1492 - accuracy: 0.9589\n",
      "Epoch 14/100\n",
      "445238/445238 [==============================] - 565s 1ms/step - loss: 0.1490 - accuracy: 0.9588\n",
      "Epoch 15/100\n",
      "445238/445238 [==============================] - 564s 1ms/step - loss: 0.1487 - accuracy: 0.9588\n",
      "Epoch 16/100\n",
      "445238/445238 [==============================] - 568s 1ms/step - loss: 0.1489 - accuracy: 0.9588\n",
      "Epoch 17/100\n",
      "445238/445238 [==============================] - 569s 1ms/step - loss: 0.1485 - accuracy: 0.9588\n",
      "Epoch 18/100\n",
      "445238/445238 [==============================] - 568s 1ms/step - loss: 0.1481 - accuracy: 0.9589\n",
      "Epoch 19/100\n",
      "445238/445238 [==============================] - 567s 1ms/step - loss: 0.1480 - accuracy: 0.9588\n",
      "Epoch 20/100\n",
      "445238/445238 [==============================] - 477s 1ms/step - loss: 0.1480 - accuracy: 0.9589\n",
      "Epoch 21/100\n",
      "445238/445238 [==============================] - 178s 399us/step - loss: 0.1478 - accuracy: 0.9588\n",
      "Epoch 22/100\n",
      "445238/445238 [==============================] - 139s 313us/step - loss: 0.1480 - accuracy: 0.9589\n",
      "Epoch 23/100\n",
      "445238/445238 [==============================] - 140s 314us/step - loss: 0.1478 - accuracy: 0.9589\n",
      "Epoch 24/100\n",
      "445238/445238 [==============================] - 139s 313us/step - loss: 0.1477 - accuracy: 0.9588\n",
      "Epoch 25/100\n",
      "445238/445238 [==============================] - 139s 313us/step - loss: 0.1476 - accuracy: 0.9589\n",
      "Epoch 26/100\n",
      "445238/445238 [==============================] - 139s 313us/step - loss: 0.1474 - accuracy: 0.9590\n",
      "Epoch 27/100\n",
      "445238/445238 [==============================] - 140s 314us/step - loss: 0.1476 - accuracy: 0.9589\n",
      "Epoch 28/100\n",
      "445238/445238 [==============================] - 140s 314us/step - loss: 0.1476 - accuracy: 0.9589\n",
      "Epoch 29/100\n",
      "445238/445238 [==============================] - 140s 315us/step - loss: 0.1480 - accuracy: 0.9588\n",
      "Epoch 30/100\n",
      "445238/445238 [==============================] - 140s 315us/step - loss: 0.1491 - accuracy: 0.9588\n",
      "Epoch 31/100\n",
      "445238/445238 [==============================] - 140s 314us/step - loss: 0.1487 - accuracy: 0.9589\n",
      "Epoch 32/100\n",
      "445238/445238 [==============================] - 140s 315us/step - loss: 0.1487 - accuracy: 0.9588\n",
      "Epoch 33/100\n",
      "445238/445238 [==============================] - 139s 313us/step - loss: 0.1497 - accuracy: 0.9589\n",
      "Epoch 34/100\n",
      "445238/445238 [==============================] - 140s 315us/step - loss: 0.1502 - accuracy: 0.9588\n",
      "Epoch 35/100\n",
      "445238/445238 [==============================] - 140s 314us/step - loss: 0.1491 - accuracy: 0.9588\n",
      "Epoch 36/100\n",
      "445238/445238 [==============================] - 140s 315us/step - loss: 0.1492 - accuracy: 0.9588\n",
      "Epoch 37/100\n",
      "445238/445238 [==============================] - 140s 314us/step - loss: 0.1495 - accuracy: 0.9588\n",
      "Epoch 38/100\n",
      "445238/445238 [==============================] - 140s 314us/step - loss: 0.1504 - accuracy: 0.9588\n",
      "Epoch 39/100\n",
      "445238/445238 [==============================] - 140s 314us/step - loss: 0.1511 - accuracy: 0.9588\n",
      "Epoch 40/100\n",
      "445238/445238 [==============================] - 140s 315us/step - loss: 0.1511 - accuracy: 0.9588\n",
      "Epoch 41/100\n",
      "445238/445238 [==============================] - 140s 314us/step - loss: 0.1499 - accuracy: 0.9588\n",
      "Epoch 42/100\n",
      "445238/445238 [==============================] - 132s 296us/step - loss: 0.1502 - accuracy: 0.9587\n",
      "Epoch 43/100\n",
      "445238/445238 [==============================] - 132s 297us/step - loss: 0.1559 - accuracy: 0.9587\n",
      "Epoch 44/100\n",
      "445238/445238 [==============================] - 133s 298us/step - loss: 0.1517 - accuracy: 0.9587\n",
      "Epoch 45/100\n",
      "445238/445238 [==============================] - 132s 296us/step - loss: 0.1504 - accuracy: 0.9588\n",
      "Epoch 46/100\n",
      "445238/445238 [==============================] - 132s 296us/step - loss: 0.1521 - accuracy: 0.9588\n",
      "Epoch 47/100\n",
      "445238/445238 [==============================] - 132s 297us/step - loss: 0.1542 - accuracy: 0.9588\n",
      "Epoch 48/100\n",
      "445238/445238 [==============================] - 132s 296us/step - loss: 0.1520 - accuracy: 0.9589\n",
      "Epoch 49/100\n",
      "445238/445238 [==============================] - 132s 297us/step - loss: 0.1519 - accuracy: 0.9588\n",
      "Epoch 50/100\n",
      "445238/445238 [==============================] - 132s 296us/step - loss: 0.1523 - accuracy: 0.9589\n",
      "Epoch 51/100\n",
      "445238/445238 [==============================] - 132s 296us/step - loss: 0.1526 - accuracy: 0.9588\n",
      "Epoch 52/100\n",
      "445238/445238 [==============================] - 132s 297us/step - loss: 0.1527 - accuracy: 0.9588\n",
      "Epoch 53/100\n",
      "445238/445238 [==============================] - 132s 297us/step - loss: 0.1538 - accuracy: 0.9588\n",
      "Epoch 54/100\n",
      "445238/445238 [==============================] - 132s 297us/step - loss: 0.1525 - accuracy: 0.9588\n",
      "Epoch 55/100\n",
      "445238/445238 [==============================] - 132s 296us/step - loss: 0.1545 - accuracy: 0.9588\n",
      "Epoch 56/100\n",
      "445238/445238 [==============================] - 132s 297us/step - loss: 0.1539 - accuracy: 0.9588\n",
      "Epoch 57/100\n",
      "445238/445238 [==============================] - 132s 297us/step - loss: 0.1518 - accuracy: 0.9588\n",
      "Epoch 58/100\n",
      "445238/445238 [==============================] - 132s 297us/step - loss: 0.1530 - accuracy: 0.9588\n",
      "Epoch 59/100\n",
      "445238/445238 [==============================] - 132s 296us/step - loss: 0.1544 - accuracy: 0.9588\n",
      "Epoch 60/100\n",
      "445238/445238 [==============================] - 132s 297us/step - loss: 0.1542 - accuracy: 0.9587\n",
      "Epoch 61/100\n",
      "445238/445238 [==============================] - 132s 297us/step - loss: 0.1532 - accuracy: 0.9587\n",
      "Epoch 62/100\n",
      "445238/445238 [==============================] - 132s 296us/step - loss: 0.1552 - accuracy: 0.9587\n",
      "Epoch 63/100\n",
      "445238/445238 [==============================] - 133s 300us/step - loss: 0.1537 - accuracy: 0.9588\n",
      "Epoch 64/100\n",
      "445238/445238 [==============================] - 132s 297us/step - loss: 0.1533 - accuracy: 0.9587\n",
      "Epoch 65/100\n",
      "445238/445238 [==============================] - 132s 297us/step - loss: 0.1542 - accuracy: 0.9587\n",
      "Epoch 66/100\n",
      "445238/445238 [==============================] - 132s 297us/step - loss: 0.1550 - accuracy: 0.9588\n",
      "Epoch 67/100\n",
      "445238/445238 [==============================] - 133s 298us/step - loss: 0.1564 - accuracy: 0.9587\n",
      "Epoch 68/100\n",
      "445238/445238 [==============================] - 132s 297us/step - loss: 0.1557 - accuracy: 0.9587\n",
      "Epoch 69/100\n",
      "445238/445238 [==============================] - 132s 297us/step - loss: 0.1593 - accuracy: 0.9587\n",
      "Epoch 70/100\n",
      "445238/445238 [==============================] - 133s 299us/step - loss: 0.1618 - accuracy: 0.9586\n",
      "Epoch 71/100\n",
      "445238/445238 [==============================] - 132s 297us/step - loss: 0.1584 - accuracy: 0.9586\n",
      "Epoch 72/100\n",
      "445238/445238 [==============================] - 132s 297us/step - loss: 0.1576 - accuracy: 0.9586\n",
      "Epoch 73/100\n",
      "445238/445238 [==============================] - 133s 298us/step - loss: 0.1590 - accuracy: 0.9586\n",
      "Epoch 74/100\n"
     ]
    },
    {
     "name": "stdout",
     "output_type": "stream",
     "text": [
      "445238/445238 [==============================] - 131s 294us/step - loss: 0.1597 - accuracy: 0.9586\n",
      "Epoch 75/100\n",
      "445238/445238 [==============================] - 131s 294us/step - loss: 0.1590 - accuracy: 0.9586\n",
      "Epoch 76/100\n",
      "445238/445238 [==============================] - 131s 295us/step - loss: 0.1617 - accuracy: 0.9586\n",
      "Epoch 77/100\n",
      "445238/445238 [==============================] - 131s 295us/step - loss: 0.1654 - accuracy: 0.9586\n",
      "Epoch 78/100\n",
      "445238/445238 [==============================] - 131s 295us/step - loss: 0.1586 - accuracy: 0.9586\n",
      "Epoch 79/100\n",
      "445238/445238 [==============================] - 131s 295us/step - loss: 0.1653 - accuracy: 0.9586\n",
      "Epoch 80/100\n",
      "445238/445238 [==============================] - 131s 295us/step - loss: 0.1611 - accuracy: 0.9586\n",
      "Epoch 81/100\n",
      "445238/445238 [==============================] - 131s 295us/step - loss: 0.1617 - accuracy: 0.9586\n",
      "Epoch 82/100\n",
      "445238/445238 [==============================] - 131s 294us/step - loss: 0.1637 - accuracy: 0.9585\n",
      "Epoch 83/100\n",
      "445238/445238 [==============================] - 131s 294us/step - loss: 0.1602 - accuracy: 0.9585\n",
      "Epoch 84/100\n",
      "445238/445238 [==============================] - 131s 295us/step - loss: 0.1645 - accuracy: 0.9586\n",
      "Epoch 85/100\n",
      "445238/445238 [==============================] - 131s 294us/step - loss: 0.1629 - accuracy: 0.9586\n",
      "Epoch 86/100\n",
      "445238/445238 [==============================] - 131s 295us/step - loss: 0.1671 - accuracy: 0.9586\n",
      "Epoch 87/100\n",
      "445238/445238 [==============================] - 131s 294us/step - loss: 0.1675 - accuracy: 0.9586\n",
      "Epoch 88/100\n",
      "445238/445238 [==============================] - 132s 295us/step - loss: 0.2781 - accuracy: 0.9585\n",
      "Epoch 89/100\n",
      "445238/445238 [==============================] - 132s 296us/step - loss: 0.1758 - accuracy: 0.9584\n",
      "Epoch 90/100\n",
      "445238/445238 [==============================] - 131s 295us/step - loss: 0.1710 - accuracy: 0.9584\n",
      "Epoch 91/100\n",
      "445238/445238 [==============================] - 132s 295us/step - loss: 0.1704 - accuracy: 0.9585\n",
      "Epoch 92/100\n",
      "445238/445238 [==============================] - 131s 295us/step - loss: 0.1668 - accuracy: 0.9586\n",
      "Epoch 93/100\n",
      "445238/445238 [==============================] - 132s 297us/step - loss: 0.1630 - accuracy: 0.9585\n",
      "Epoch 94/100\n",
      "445238/445238 [==============================] - 148s 332us/step - loss: 0.1647 - accuracy: 0.9585\n",
      "Epoch 95/100\n",
      "445238/445238 [==============================] - 147s 331us/step - loss: 0.1643 - accuracy: 0.9585\n",
      "Epoch 96/100\n",
      "445238/445238 [==============================] - 148s 333us/step - loss: 0.1651 - accuracy: 0.9585\n",
      "Epoch 97/100\n",
      "445238/445238 [==============================] - 139s 312us/step - loss: 0.1722 - accuracy: 0.9585\n",
      "Epoch 98/100\n",
      "445238/445238 [==============================] - 150s 337us/step - loss: 0.1764 - accuracy: 0.9585\n",
      "Epoch 99/100\n",
      "445238/445238 [==============================] - 148s 333us/step - loss: 0.1804 - accuracy: 0.9585\n",
      "Epoch 100/100\n",
      "445238/445238 [==============================] - 143s 321us/step - loss: 0.1692 - accuracy: 0.9585\n"
     ]
    },
    {
     "data": {
      "text/plain": [
       "<keras.callbacks.callbacks.History at 0x1a65c202b0>"
      ]
     },
     "execution_count": 21,
     "metadata": {},
     "output_type": "execute_result"
    }
   ],
   "source": [
    "classifier = Sequential()\n",
    "\n",
    "# Adding the input layer and the first hidden layer\n",
    "classifier.add(Dense(output_dim = 100, init = 'uniform', activation = 'relu', input_dim = X_test.shape[1]))\n",
    "# Adding the second hidden layer\n",
    "classifier.add(Dense(output_dim = 100, init = 'uniform', activation = 'relu'))\n",
    "classifier.add(Dense(output_dim = 100, init = 'uniform', activation = 'relu'))\n",
    "# Adding the output layer\n",
    "classifier.add(Dense(output_dim = 1, init = 'uniform', activation = 'sigmoid'))\n",
    "\n",
    "classifier.compile(optimizer = 'adam', loss = 'binary_crossentropy', metrics = ['accuracy'])\n",
    "                   \n",
    "classifier.fit(X_train, y_train, batch_size = 10, epochs = 100, verbose = 1)\n"
   ]
  },
  {
   "cell_type": "code",
   "execution_count": 22,
   "metadata": {},
   "outputs": [],
   "source": [
    "y_pred = classifier.predict(X_test)\n",
    "y_pred = (y_pred > 0.02)\n",
    "\n",
    "\n",
    "# print (classification_report(y_test, y_pred))\n",
    "cm = confusion_matrix(y_test, y_pred)\n",
    "\n",
    "# acc = accuracy_score(y_test, y_pred)\n",
    "# logloss = log_loss(y_test, y_pred)"
   ]
  },
  {
   "cell_type": "code",
   "execution_count": 23,
   "metadata": {},
   "outputs": [
    {
     "name": "stdout",
     "output_type": "stream",
     "text": [
      "219297/219297 [==============================] - 6s 28us/step\n"
     ]
    }
   ],
   "source": [
    "loss, acc = classifier.evaluate(X_test, y_test, batch_size = 32)"
   ]
  },
  {
   "cell_type": "code",
   "execution_count": 24,
   "metadata": {},
   "outputs": [],
   "source": [
    "# Save model to disk\n",
    "filename = path/'Final_Model-NN-V6.sav'\n",
    "pickle.dump(classifier, open(filename, 'wb'))"
   ]
  },
  {
   "cell_type": "code",
   "execution_count": 25,
   "metadata": {},
   "outputs": [],
   "source": [
    "# filename = path/'Final_Model-XGBooster-Saved.sav'"
   ]
  },
  {
   "cell_type": "code",
   "execution_count": 26,
   "metadata": {},
   "outputs": [],
   "source": [
    "# Load model from disk and use it to make new predictions\n",
    "loaded_model = pickle.load(open(filename, 'rb'))\n",
    "# result = loaded_model.score(X_test, y_test)\n",
    "# print(result)"
   ]
  },
  {
   "cell_type": "code",
   "execution_count": 27,
   "metadata": {},
   "outputs": [],
   "source": [
    "X_test = df_test_2.values\n",
    "loaded_model = pickle.load(open(filename, 'rb'))\n",
    "X_test = sc.transform(X_test)\n",
    "pred = loaded_model.predict(X_test)"
   ]
  },
  {
   "cell_type": "code",
   "execution_count": 28,
   "metadata": {},
   "outputs": [],
   "source": [
    "# pred = (pred > 0.02).astype(int)"
   ]
  },
  {
   "cell_type": "code",
   "execution_count": 29,
   "metadata": {},
   "outputs": [],
   "source": [
    "final_df = pd.DataFrame({'GroupDN': df_test['GroupDN'],'Member': df_test['Member'], 'Manager': df_test['Manager'], 'Owner': pred[:, 0]})"
   ]
  },
  {
   "cell_type": "code",
   "execution_count": 30,
   "metadata": {},
   "outputs": [],
   "source": [
    "final_df.to_csv(path/'MLProcessed1-NN-V6.csv', header=True, index=False)"
   ]
  },
  {
   "cell_type": "code",
   "execution_count": 31,
   "metadata": {},
   "outputs": [],
   "source": [
    "grouped = final_df.groupby(['GroupDN'])"
   ]
  },
  {
   "cell_type": "code",
   "execution_count": 32,
   "metadata": {},
   "outputs": [],
   "source": [
    "idx = final_df.groupby(['GroupDN'])['Owner'].transform(max) == final_df['Owner']\n",
    "final_df[idx].to_csv(path/'MLProcessed1-NN-Grouped.csv', header=True, index=False)"
   ]
  },
  {
   "cell_type": "code",
   "execution_count": 33,
   "metadata": {},
   "outputs": [],
   "source": [
    "i = 0\n",
    "for name, group in grouped:\n",
    "    if group['Owner'].sum() == 0:\n",
    "        i += 1\n",
    "        "
   ]
  },
  {
   "cell_type": "code",
   "execution_count": 34,
   "metadata": {},
   "outputs": [
    {
     "name": "stdout",
     "output_type": "stream",
     "text": [
      "Total number of predicted owners are: 909279\n",
      "Ratio of owners are: 18.570737087188284\n",
      "Mean of owners are: 0.021149436\n",
      "Total number of groups are: 48963\n",
      "Number of predicted groups with owners are: 37799\n",
      "\n",
      "Model accuracy is: 0.9633054733276367\n",
      "Model loss is: 0.1941447409156126\n",
      "\n",
      "Confusion matrix of the model is:\n",
      "[[ 88835 122415]\n",
      " [  2393   5654]]\n",
      "\n",
      "Classification report for the model is:\n",
      "              precision    recall  f1-score   support\n",
      "\n",
      "           0       0.97      0.42      0.59    211250\n",
      "           1       0.04      0.70      0.08      8047\n",
      "\n",
      "    accuracy                           0.43    219297\n",
      "   macro avg       0.51      0.56      0.34    219297\n",
      "weighted avg       0.94      0.43      0.57    219297\n",
      "\n",
      "\n",
      "Summary of the model is:\n",
      "Model: \"sequential_1\"\n",
      "_________________________________________________________________\n",
      "Layer (type)                 Output Shape              Param #   \n",
      "=================================================================\n",
      "dense_1 (Dense)              (None, 100)               1000      \n",
      "_________________________________________________________________\n",
      "dense_2 (Dense)              (None, 100)               10100     \n",
      "_________________________________________________________________\n",
      "dense_3 (Dense)              (None, 100)               10100     \n",
      "_________________________________________________________________\n",
      "dense_4 (Dense)              (None, 1)                 101       \n",
      "=================================================================\n",
      "Total params: 21,301\n",
      "Trainable params: 21,301\n",
      "Non-trainable params: 0\n",
      "_________________________________________________________________\n"
     ]
    }
   ],
   "source": [
    "print(\"Total number of predicted owners are: %s\"%(len(pred)))\n",
    "print(\"Ratio of owners are: %s\"%(len(pred)/len(grouped)))\n",
    "print(\"Mean of owners are: %s\"%(pred.mean()))\n",
    "print(\"Total number of groups are: %s\"%(len(grouped)))\n",
    "print(\"Number of predicted groups with owners are: %s\"%(len(grouped) - i))\n",
    "print(\"\")\n",
    "print(\"Model accuracy is: %s\"%(acc))\n",
    "print('Model loss is:', loss)\n",
    "print(\"\")\n",
    "print(\"Confusion matrix of the model is:\")\n",
    "print(cm)\n",
    "print(\"\")\n",
    "print(\"Classification report for the model is:\")\n",
    "print (classification_report(y_test, y_pred))\n",
    "print(\"\")\n",
    "print(\"Summary of the model is:\")\n",
    "classifier.summary()"
   ]
  },
  {
   "cell_type": "code",
   "execution_count": 35,
   "metadata": {},
   "outputs": [],
   "source": [
    "# df_test_2.to_csv(path/'Encoded_without_Owners.csv', header=True, index=False)\n",
    "# data.to_csv(path/'Encoded_with_Owners.csv', header=True, index=False)"
   ]
  },
  {
   "cell_type": "code",
   "execution_count": null,
   "metadata": {},
   "outputs": [],
   "source": []
  }
 ],
 "metadata": {
  "kernelspec": {
   "display_name": "Python 3",
   "language": "python",
   "name": "python3"
  },
  "language_info": {
   "codemirror_mode": {
    "name": "ipython",
    "version": 3
   },
   "file_extension": ".py",
   "mimetype": "text/x-python",
   "name": "python",
   "nbconvert_exporter": "python",
   "pygments_lexer": "ipython3",
   "version": "3.7.3"
  }
 },
 "nbformat": 4,
 "nbformat_minor": 2
}
