{
 "cells": [
  {
   "cell_type": "code",
   "execution_count": 27,
   "metadata": {},
   "outputs": [],
   "source": [
    "from fastai.tabular import *\n",
    "import os\n",
    "from sklearn import preprocessing\n"
   ]
  },
  {
   "cell_type": "code",
   "execution_count": 28,
   "metadata": {},
   "outputs": [],
   "source": [
    "path = Path('/Users/bbabu/fastai/DataSamples')"
   ]
  },
  {
   "cell_type": "code",
   "execution_count": 49,
   "metadata": {},
   "outputs": [],
   "source": [
    "#df = pd.read_csv(path/'Output-5v2.csv', sep=',', header=0)\n",
    "#df_test = pd.read_csv(path/'Output-6-Test.csv', sep=',', header=0)\n",
    "\n",
    "# df = df.set_index(\"GroupDN\")\n",
    "# df_test = df_test.set_index(\"GroupDN\")\n",
    "\n",
    "\n",
    "\n",
    "\n",
    "#changed on 7th Oct\n",
    "df = pd.read_csv(path/'Output-5v5.csv', sep=',', header=0)\n",
    "df_test = pd.read_csv(path/'Output-5v5-Test.csv', sep=',', header=0)\n",
    "\n",
    "df = df.fillna(0)\n",
    "df_test = df_test.fillna(0)\n",
    "\n",
    "# df = df.groupby('GroupDN')\n",
    "# df.apply(lambda _df: _df.groupby(by=['GroupDN'])\n",
    "# df_test = df_test.groupby('GroupDN')\n",
    "# df.apply(lambda _df: _df_test.groupby(by=['GroupDN'])\n"
   ]
  },
  {
   "cell_type": "code",
   "execution_count": 50,
   "metadata": {},
   "outputs": [],
   "source": [
    "#df.head()\n",
    "# dir(df)"
   ]
  },
  {
   "cell_type": "code",
   "execution_count": 51,
   "metadata": {},
   "outputs": [],
   "source": [
    "# le = preprocessing.LabelEncoder()\n",
    "# categorical = list(df.select_dtypes(include=['object']).columns.values)\n",
    "# for cat in categorical:\n",
    "#     #print(cat)\n",
    "#     df[cat].fillna('N/A', inplace=True)\n",
    "#     df[cat] = le.fit_transform(df[cat].astype(str))\n",
    "\n",
    "# categorical = list(df_test.select_dtypes(include=['object']).columns.values)\n",
    "# for cat in categorical:\n",
    "#     #print(cat)\n",
    "#     df_test[cat].fillna('N/A', inplace=True)\n",
    "#     df_test[cat] = le.fit_transform(df_test[cat].astype(str))\n",
    "\n",
    "# dep_var = 'Owner'\n",
    "# cont_names = ['GroupDN', 'Member', 'Manager', 'BusinessGroup', 'Platform', 'Title', 'Description', 'Department', 'Country', 'City']\n",
    "# cat_names = []\n",
    "# valid_idx = range(len(df)-1000, len(df))\n",
    "# procs = [FillMissing, Categorify, Normalize]\n",
    "\n",
    "# data = (TabularList.from_df(df, path=path, cat_names=cat_names, cont_names=cont_names, procs=procs)\n",
    "#         #.split_by_idx(list(range(1,1000)))\n",
    "#         #.split_by_idx(valid_idx)\n",
    "#         .split_by_rand_pct(0.7)\n",
    "#         .label_from_df(cols=dep_var)\n",
    "#         .add_test(TabularList.from_df(df_test, cat_names=cat_names, cont_names=cont_names, procs=procs))\n",
    "#         .databunch())"
   ]
  },
  {
   "cell_type": "code",
   "execution_count": 52,
   "metadata": {},
   "outputs": [],
   "source": [
    "dep_var = 'Owner'\n",
    "#cat_names = ['GroupDN', 'Member', 'BusinessGroup', 'Platform', 'Title', 'Description', 'Department', 'Country', 'State', 'City']\n",
    "cat_names = ['GroupDN', 'Member', 'Manager', 'BusinessGroup', 'Platform', 'Title', 'Description', 'Department', 'Country', 'City']\n",
    "#cat_names = ['GroupDN', 'Member', 'BusinessGroup', 'Platform', 'Title', 'Description', 'Department', 'Country', 'City']\n",
    "#cat_names = ['GroupDN', 'Member', 'BusinessGroup', 'Platform', 'Title', 'Department', 'Country', 'City']\n",
    "#cat_names = ['GroupDN', 'Member', 'BusinessGroup', 'Platform', 'Country', 'City']\n",
    "# cont_names = ['Manager']\n",
    "cont_names = []\n",
    "\n",
    "#txt_cols = ['Description']\n",
    "\n",
    "valid_idx = range(len(df)-1000, len(df))\n",
    "#print(valid_idx)\n",
    "\n",
    "procs = [FillMissing, Categorify, Normalize]\n",
    "\n",
    "data = (TabularList.from_df(df, path=path, cat_names=cat_names, cont_names=cont_names, procs=procs)\n",
    "        #.split_by_idx(list(range(1,1000)))\n",
    "        #.split_by_idx(valid_idx)\n",
    "        .split_by_rand_pct(0.7)\n",
    "        .label_from_df(cols=dep_var)\n",
    "        .add_test(TabularList.from_df(df_test, cat_names=cat_names, cont_names=cont_names, procs=procs))\n",
    "        .databunch())"
   ]
  },
  {
   "cell_type": "code",
   "execution_count": 53,
   "metadata": {},
   "outputs": [],
   "source": [
    "\n",
    "# for v in cat_names: df[v] = df[v].astype('category').cat.as_ordered()"
   ]
  },
  {
   "cell_type": "code",
   "execution_count": 54,
   "metadata": {},
   "outputs": [],
   "source": [
    "# df.head()"
   ]
  },
  {
   "cell_type": "code",
   "execution_count": 55,
   "metadata": {},
   "outputs": [],
   "source": [
    "#??TabularDataBunch.from_df\n",
    "\n",
    "#data = TabularDataBunch.from_df(path, df, dep_var, valid_idx=valid_idx, procs=procs, cat_names=cat_names, cont_names=cont_names)"
   ]
  },
  {
   "cell_type": "code",
   "execution_count": 56,
   "metadata": {},
   "outputs": [
    {
     "data": {
      "text/plain": [
       "['No', 'Yes']"
      ]
     },
     "execution_count": 56,
     "metadata": {},
     "output_type": "execute_result"
    }
   ],
   "source": [
    "data.classes"
   ]
  },
  {
   "cell_type": "code",
   "execution_count": 57,
   "metadata": {},
   "outputs": [],
   "source": [
    "#learn = tabular_learner(data, layers=[200,100], metrics=accuracy)\n",
    "#learn = tabular_learner(data, layers=[1000,500], metrics=dice)\n",
    "learn = tabular_learner(data, layers=[200,100], metrics=accuracy)"
   ]
  },
  {
   "cell_type": "code",
   "execution_count": 58,
   "metadata": {
    "scrolled": true
   },
   "outputs": [],
   "source": [
    "# learn.model"
   ]
  },
  {
   "cell_type": "code",
   "execution_count": 59,
   "metadata": {},
   "outputs": [
    {
     "data": {
      "text/plain": [
       "<bound method model_summary of Learner(data=TabularDataBunch;\n",
       "\n",
       "Train: LabelList (351 items)\n",
       "x: TabularList\n",
       "GroupDN CN=GTM GLOBAL USER,OU=UP Managed Groups,DC=Na,DC=Corp,DC=Cargill,DC=com; Member a260306; Manager No; BusinessGroup FIBI Shared Resources; Platform Food Ingredients & Bio-Industrial; Title Marketing & Sales FP&A Analyst; Description FIBI Shared Resources - MECHELEN; Department 0; Country Belgium; City MECHELEN; ,GroupDN CN=PCG RD MSALBL56MP,OU=Users,OU=PCG,OU=SharedServices,DC=meat,DC=Cargill,DC=com; Member dlinke; Manager Yes; BusinessGroup Protein; Platform Protein & Salt; Title Sr  PFS Consultant; Description Protein ? BOSC - Corporate Engineering - WICHITA; Department Corporate Engineering; Country United States; City WICHITA; ,GroupDN CN=PCG RD MSALBL56MP,OU=Users,OU=PCG,OU=SharedServices,DC=meat,DC=Cargill,DC=com; Member jasander; Manager No; BusinessGroup Corporate; Platform Corporate; Title OSC Solution Architect; Description Global Information Technology - GIT Region NA Business Apps - WICHITA; Department GIT Region NA Business Apps; Country United States; City WICHITA; ,GroupDN CN=PCG RD MSALBL56MP,OU=Users,OU=PCG,OU=SharedServices,DC=meat,DC=Cargill,DC=com; Member lmason1; Manager No; BusinessGroup Corporate; Platform Corporate; Title A&R Costing Sr  Assistant; Description Finance - Accounting & Reporting - ALBERT LEA; Department Accounting & Reporting; Country United States; City ALBERT LEA; ,GroupDN CN=PCG RD MSALBL56MP,OU=Users,OU=PCG,OU=SharedServices,DC=meat,DC=Cargill,DC=com; Member hdao1; Manager Yes; BusinessGroup Protein; Platform Protein & Salt; Title Plant Systems & Controls Engineer; Description Protein ? BOSC - Corporate Engineering - WICHITA; Department Corporate Engineering; Country United States; City WICHITA; \n",
       "y: CategoryList\n",
       "No,No,Yes,No,No\n",
       "Path: /Users/bbabu/fastai/DataSamples;\n",
       "\n",
       "Valid: LabelList (819 items)\n",
       "x: TabularList\n",
       "GroupDN CN=GN-SharePoint-Read,OU=UP Managed Groups,DC=Na,DC=Corp,DC=Cargill,DC=com; Member v012083; Manager Yes; BusinessGroup Corporate; Platform Corporate; Title Network; Description Global Information Technology - TCS - Infrastructure - Pune; Department TCS - Infrastructure; Country India; City Pune; ,GroupDN CN=GN-SharePoint-Modify,OU=UP Managed Groups,DC=Na,DC=Corp,DC=Cargill,DC=com; Member #na#; Manager No; BusinessGroup Corporate; Platform Corporate; Title #na#; Description Global Information Technology - TCS - Infrastructure - Bloomington; Department TCS - Infrastructure; Country United States; City Bloomington; ,GroupDN CN=CARGILL_DairyEnteligen,OU=Users,OU=Minneapolis,OU=GOSCNA,OU=GOSC,DC=Na,DC=Corp,DC=Cargill,DC=com; Member #na#; Manager Yes; BusinessGroup Premix & Nutrition; Platform Animal Nutrition; Title #na#; Description #na#; Department #na#; Country United States; City BROOKVILLE; ,GroupDN CN=cdp_identityiq_read,OU=IdentityIQ Managed Groups,OU=Enterprise,DC=Na,DC=Corp,DC=Cargill,DC=com; Member mlisand1; Manager No; BusinessGroup Corporate; Platform Corporate; Title AN SECURITY OFFICER SR; Description Global Information Technology - IT Value Enablers TGRC - Sao Paulo; Department IT Value Enablers TGRC; Country Brazil; City Sao Paulo; ,GroupDN CN=GN-SharePoint-LC-Read,OU=UP Managed Groups,DC=Na,DC=Corp,DC=Cargill,DC=com; Member #na#; Manager No; BusinessGroup Corporate; Platform Corporate; Title Network; Description Global Information Technology - TCS - Infrastructure - Hopkins; Department TCS - Infrastructure; Country United States; City Hopkins; \n",
       "y: CategoryList\n",
       "No,No,No,No,No\n",
       "Path: /Users/bbabu/fastai/DataSamples;\n",
       "\n",
       "Test: LabelList (6035 items)\n",
       "x: TabularList\n",
       "GroupDN CN=GTM GLOBAL USER,OU=UP Managed Groups,DC=Na,DC=Corp,DC=Cargill,DC=com; Member #na#; Manager No; BusinessGroup FIBI Shared Resources; Platform Food Ingredients & Bio-Industrial; Title #na#; Description #na#; Department FIBI Accounting & Finance; Country Belgium; City MECHELEN; ,GroupDN CN=GTM GLOBAL USER,OU=UP Managed Groups,DC=Na,DC=Corp,DC=Cargill,DC=com; Member #na#; Manager No; BusinessGroup FIBI Shared Resources; Platform Food Ingredients & Bio-Industrial; Title #na#; Description #na#; Department #na#; Country United States; City WAYZATA; ,GroupDN CN=GTM GLOBAL USER,OU=UP Managed Groups,DC=Na,DC=Corp,DC=Cargill,DC=com; Member a260306; Manager No; BusinessGroup FIBI Shared Resources; Platform Food Ingredients & Bio-Industrial; Title Marketing & Sales FP&A Analyst; Description FIBI Shared Resources - MECHELEN; Department 0; Country Belgium; City MECHELEN; ,GroupDN CN=GTM GLOBAL USER,OU=UP Managed Groups,DC=Na,DC=Corp,DC=Cargill,DC=com; Member gbuts; Manager No; BusinessGroup Corporate; Platform Corporate; Title Corporate Function; Description Global Information Technology - SO - D&BI - Mechelen; Department SO - D&BI; Country Belgium; City Mechelen; ,GroupDN CN=GTM GLOBAL USER,OU=UP Managed Groups,DC=Na,DC=Corp,DC=Cargill,DC=com; Member fschrove; Manager No; BusinessGroup FIBI Shared Resources; Platform Food Ingredients & Bio-Industrial; Title Business Analyst; Description FIBI Shared Resources - GIT Value Enablers D&BI - MECHELEN; Department GIT Value Enablers D&BI; Country Belgium; City MECHELEN; \n",
       "y: EmptyLabelList\n",
       ",,,,\n",
       "Path: /Users/bbabu/fastai/DataSamples, model=TabularModel(\n",
       "  (embeds): ModuleList(\n",
       "    (0): Embedding(30, 11)\n",
       "    (1): Embedding(294, 39)\n",
       "    (2): Embedding(3, 3)\n",
       "    (3): Embedding(14, 7)\n",
       "    (4): Embedding(8, 5)\n",
       "    (5): Embedding(215, 32)\n",
       "    (6): Embedding(184, 30)\n",
       "    (7): Embedding(94, 20)\n",
       "    (8): Embedding(38, 12)\n",
       "    (9): Embedding(108, 22)\n",
       "  )\n",
       "  (emb_drop): Dropout(p=0.0, inplace=False)\n",
       "  (bn_cont): BatchNorm1d(0, eps=1e-05, momentum=0.1, affine=True, track_running_stats=True)\n",
       "  (layers): Sequential(\n",
       "    (0): Linear(in_features=181, out_features=200, bias=True)\n",
       "    (1): ReLU(inplace=True)\n",
       "    (2): BatchNorm1d(200, eps=1e-05, momentum=0.1, affine=True, track_running_stats=True)\n",
       "    (3): Linear(in_features=200, out_features=100, bias=True)\n",
       "    (4): ReLU(inplace=True)\n",
       "    (5): BatchNorm1d(100, eps=1e-05, momentum=0.1, affine=True, track_running_stats=True)\n",
       "    (6): Linear(in_features=100, out_features=2, bias=True)\n",
       "  )\n",
       "), opt_func=functools.partial(<class 'torch.optim.adam.Adam'>, betas=(0.9, 0.99)), loss_func=FlattenedLoss of CrossEntropyLoss(), metrics=[<function accuracy at 0x1a1d067510>], true_wd=True, bn_wd=True, wd=0.01, train_bn=True, path=PosixPath('/Users/bbabu/fastai/DataSamples'), model_dir='models', callback_fns=[functools.partial(<class 'fastai.basic_train.Recorder'>, add_time=True, silent=False)], callbacks=[], layer_groups=[Sequential(\n",
       "  (0): Embedding(30, 11)\n",
       "  (1): Embedding(294, 39)\n",
       "  (2): Embedding(3, 3)\n",
       "  (3): Embedding(14, 7)\n",
       "  (4): Embedding(8, 5)\n",
       "  (5): Embedding(215, 32)\n",
       "  (6): Embedding(184, 30)\n",
       "  (7): Embedding(94, 20)\n",
       "  (8): Embedding(38, 12)\n",
       "  (9): Embedding(108, 22)\n",
       "  (10): Dropout(p=0.0, inplace=False)\n",
       "  (11): BatchNorm1d(0, eps=1e-05, momentum=0.1, affine=True, track_running_stats=True)\n",
       "  (12): Linear(in_features=181, out_features=200, bias=True)\n",
       "  (13): ReLU(inplace=True)\n",
       "  (14): BatchNorm1d(200, eps=1e-05, momentum=0.1, affine=True, track_running_stats=True)\n",
       "  (15): Linear(in_features=200, out_features=100, bias=True)\n",
       "  (16): ReLU(inplace=True)\n",
       "  (17): BatchNorm1d(100, eps=1e-05, momentum=0.1, affine=True, track_running_stats=True)\n",
       "  (18): Linear(in_features=100, out_features=2, bias=True)\n",
       ")], add_time=True, silent=False, cb_fns_registered=False)>"
      ]
     },
     "execution_count": 59,
     "metadata": {},
     "output_type": "execute_result"
    }
   ],
   "source": [
    "learn.summary"
   ]
  },
  {
   "cell_type": "code",
   "execution_count": 60,
   "metadata": {
    "scrolled": true
   },
   "outputs": [
    {
     "data": {
      "text/html": [],
      "text/plain": [
       "<IPython.core.display.HTML object>"
      ]
     },
     "metadata": {},
     "output_type": "display_data"
    },
    {
     "name": "stdout",
     "output_type": "stream",
     "text": [
      "LR Finder is complete, type {learner_name}.recorder.plot() to see the graph.\n"
     ]
    },
    {
     "data": {
      "image/png": "[encoded data removed]",
      "text/plain": [
       "<Figure size 432x288 with 1 Axes>"
      ]
     },
     "metadata": {
      "needs_background": "light"
     },
     "output_type": "display_data"
    }
   ],
   "source": [
    "learn.lr_find()\n",
    "learn.recorder.plot()"
   ]
  },
  {
   "cell_type": "code",
   "execution_count": 61,
   "metadata": {
    "scrolled": true
   },
   "outputs": [
    {
     "data": {
      "text/html": [
       "<table border=\"1\" class=\"dataframe\">\n",
       "  <thead>\n",
       "    <tr style=\"text-align: left;\">\n",
       "      <th>epoch</th>\n",
       "      <th>train_loss</th>\n",
       "      <th>valid_loss</th>\n",
       "      <th>accuracy</th>\n",
       "      <th>time</th>\n",
       "    </tr>\n",
       "  </thead>\n",
       "  <tbody>\n",
       "    <tr>\n",
       "      <td>0</td>\n",
       "      <td>1.983534</td>\n",
       "      <td>1.089454</td>\n",
       "      <td>0.664225</td>\n",
       "      <td>00:00</td>\n",
       "    </tr>\n",
       "    <tr>\n",
       "      <td>1</td>\n",
       "      <td>1.098929</td>\n",
       "      <td>0.291507</td>\n",
       "      <td>0.967033</td>\n",
       "      <td>00:00</td>\n",
       "    </tr>\n",
       "    <tr>\n",
       "      <td>2</td>\n",
       "      <td>0.746273</td>\n",
       "      <td>0.281838</td>\n",
       "      <td>0.967033</td>\n",
       "      <td>00:00</td>\n",
       "    </tr>\n",
       "    <tr>\n",
       "      <td>3</td>\n",
       "      <td>0.564057</td>\n",
       "      <td>0.324739</td>\n",
       "      <td>0.967033</td>\n",
       "      <td>00:00</td>\n",
       "    </tr>\n",
       "    <tr>\n",
       "      <td>4</td>\n",
       "      <td>0.454411</td>\n",
       "      <td>0.201379</td>\n",
       "      <td>0.967033</td>\n",
       "      <td>00:00</td>\n",
       "    </tr>\n",
       "  </tbody>\n",
       "</table>"
      ],
      "text/plain": [
       "<IPython.core.display.HTML object>"
      ]
     },
     "metadata": {},
     "output_type": "display_data"
    }
   ],
   "source": [
    "learn.fit(5, 1e-01)"
   ]
  },
  {
   "cell_type": "code",
   "execution_count": 62,
   "metadata": {
    "scrolled": true
   },
   "outputs": [],
   "source": [
    "# learn.fit_one_cycle(5, 1e-02, wd = 0.2)"
   ]
  },
  {
   "cell_type": "code",
   "execution_count": 63,
   "metadata": {},
   "outputs": [
    {
     "data": {
      "text/plain": [
       "(Category No, tensor(0), tensor([0.9474, 0.0526]))"
      ]
     },
     "execution_count": 63,
     "metadata": {},
     "output_type": "execute_result"
    }
   ],
   "source": [
    "row = df.iloc[6]\n",
    "learn.predict(row)"
   ]
  },
  {
   "cell_type": "code",
   "execution_count": 64,
   "metadata": {
    "scrolled": true
   },
   "outputs": [
    {
     "data": {
      "image/png": "[encoded data removed]",
      "text/plain": [
       "<Figure size 432x288 with 1 Axes>"
      ]
     },
     "metadata": {
      "needs_background": "light"
     },
     "output_type": "display_data"
    }
   ],
   "source": [
    "learn.recorder.plot_losses()"
   ]
  },
  {
   "cell_type": "code",
   "execution_count": 65,
   "metadata": {},
   "outputs": [
    {
     "data": {
      "text/plain": [
       "[('Yes', 'No', 27)]"
      ]
     },
     "execution_count": 65,
     "metadata": {},
     "output_type": "execute_result"
    },
    {
     "data": {
      "image/png": "[encoded data removed]",
      "text/plain": [
       "<Figure size 432x288 with 1 Axes>"
      ]
     },
     "metadata": {
      "needs_background": "light"
     },
     "output_type": "display_data"
    }
   ],
   "source": [
    "interp = ClassificationInterpretation.from_learner(learn)\n",
    "interp.plot_confusion_matrix()\n",
    "interp.most_confused()"
   ]
  },
  {
   "cell_type": "code",
   "execution_count": 66,
   "metadata": {},
   "outputs": [],
   "source": [
    "learn.unfreeze()\n",
    "# learn.fit_one_cycle(epochs)\n",
    "# learn.freeze()\n",
    "learn.export()"
   ]
  },
  {
   "cell_type": "code",
   "execution_count": 67,
   "metadata": {},
   "outputs": [],
   "source": [
    "#??learn.get_preds\n",
    "#??tabular_learner"
   ]
  },
  {
   "cell_type": "code",
   "execution_count": 68,
   "metadata": {},
   "outputs": [],
   "source": [
    "# learn = load_learner(adult)\n",
    "# learn = load_learner(path, test=TabularList.from_df(df_test, cat_names=cat_names, cont_names=cont_names, procs=procs))"
   ]
  },
  {
   "cell_type": "code",
   "execution_count": 69,
   "metadata": {},
   "outputs": [],
   "source": [
    "preds = learn.get_preds(ds_type=DatasetType.Test)[1].numpy()\n",
    "#preds = learn.get_preds(ds_type=DatasetType.Valid)[1].numpy()"
   ]
  },
  {
   "cell_type": "code",
   "execution_count": 70,
   "metadata": {},
   "outputs": [
    {
     "name": "stdout",
     "output_type": "stream",
     "text": [
      "[0 0 0 0 ... 0 0 0 0]\n"
     ]
    },
    {
     "data": {
      "text/plain": [
       "0"
      ]
     },
     "execution_count": 70,
     "metadata": {},
     "output_type": "execute_result"
    }
   ],
   "source": [
    "print(preds)\n",
    "preds.sum()"
   ]
  },
  {
   "cell_type": "code",
   "execution_count": 24,
   "metadata": {},
   "outputs": [],
   "source": [
    "final_df = pd.DataFrame({'GroupDN': df_test['GroupDN'],'Member': df_test['Member'], 'Manager': df_test['Manager'], 'Owner': preds})\n",
    "final_df.to_csv(path/'MLProcessed-Fastai.csv', header=True, index=False)"
   ]
  },
  {
   "cell_type": "code",
   "execution_count": 25,
   "metadata": {
    "scrolled": true
   },
   "outputs": [
    {
     "data": {
      "text/html": [
       "<table border=\"1\" class=\"dataframe\">\n",
       "  <thead>\n",
       "    <tr style=\"text-align: right;\">\n",
       "      <th>GroupDN</th>\n",
       "      <th>Member</th>\n",
       "      <th>Manager</th>\n",
       "      <th>BusinessGroup</th>\n",
       "      <th>Platform</th>\n",
       "      <th>Title</th>\n",
       "      <th>Description</th>\n",
       "      <th>Department</th>\n",
       "      <th>Country</th>\n",
       "      <th>City</th>\n",
       "      <th>target</th>\n",
       "      <th>prediction</th>\n",
       "    </tr>\n",
       "  </thead>\n",
       "  <tbody>\n",
       "    <tr>\n",
       "      <td>CN=cdp_identityiq_read,OU=IdentityIQ Managed Groups,OU=Enterprise,DC=Na,DC=Corp,DC=Cargill,DC=com</td>\n",
       "      <td>#na#</td>\n",
       "      <td>Yes</td>\n",
       "      <td>Corporate</td>\n",
       "      <td>Corporate</td>\n",
       "      <td>#na#</td>\n",
       "      <td>Global Information Technology - GIT Value Enablers TGRC - HOPKINS</td>\n",
       "      <td>GIT Value Enablers TGRC</td>\n",
       "      <td>United States</td>\n",
       "      <td>HOPKINS</td>\n",
       "      <td>No</td>\n",
       "      <td>No</td>\n",
       "    </tr>\n",
       "    <tr>\n",
       "      <td>CN=RtDuet NAHAMMCTS Admins,OU=PI Data Historian,DC=Na,DC=Corp,DC=Cargill,DC=com</td>\n",
       "      <td>#na#</td>\n",
       "      <td>No</td>\n",
       "      <td>Corporate</td>\n",
       "      <td>Corporate</td>\n",
       "      <td>0</td>\n",
       "      <td>#na#</td>\n",
       "      <td>Business Applications</td>\n",
       "      <td>United States</td>\n",
       "      <td>Minneapolis</td>\n",
       "      <td>No</td>\n",
       "      <td>No</td>\n",
       "    </tr>\n",
       "    <tr>\n",
       "      <td>CN=GN-SharePoint-LC-Read,OU=UP Managed Groups,DC=Na,DC=Corp,DC=Cargill,DC=com</td>\n",
       "      <td>p108796</td>\n",
       "      <td>No</td>\n",
       "      <td>Corporate</td>\n",
       "      <td>Corporate</td>\n",
       "      <td>Network_ GCC Management</td>\n",
       "      <td>Global Information Technology - TCS - Infrastructure - Pune</td>\n",
       "      <td>TCS - Infrastructure</td>\n",
       "      <td>India</td>\n",
       "      <td>Pune</td>\n",
       "      <td>No</td>\n",
       "      <td>No</td>\n",
       "    </tr>\n",
       "    <tr>\n",
       "      <td>CN=cdp_identityiq_read,OU=IdentityIQ Managed Groups,OU=Enterprise,DC=Na,DC=Corp,DC=Cargill,DC=com</td>\n",
       "      <td>#na#</td>\n",
       "      <td>No</td>\n",
       "      <td>Global Edible Oil Solutions</td>\n",
       "      <td>Food Ingredients &amp; Bio-Industrial</td>\n",
       "      <td>#na#</td>\n",
       "      <td>#na#</td>\n",
       "      <td>#na#</td>\n",
       "      <td>Netherlands</td>\n",
       "      <td>#na#</td>\n",
       "      <td>No</td>\n",
       "      <td>No</td>\n",
       "    </tr>\n",
       "    <tr>\n",
       "      <td>CN=CARGILL_DairyEnteligen,OU=Users,OU=Minneapolis,OU=GOSCNA,OU=GOSC,DC=Na,DC=Corp,DC=Cargill,DC=com</td>\n",
       "      <td>#na#</td>\n",
       "      <td>No</td>\n",
       "      <td>Premix &amp; Nutrition</td>\n",
       "      <td>Animal Nutrition</td>\n",
       "      <td>#na#</td>\n",
       "      <td>#na#</td>\n",
       "      <td>#na#</td>\n",
       "      <td>United States</td>\n",
       "      <td>HOPKINS</td>\n",
       "      <td>No</td>\n",
       "      <td>No</td>\n",
       "    </tr>\n",
       "  </tbody>\n",
       "</table>"
      ],
      "text/plain": [
       "<IPython.core.display.HTML object>"
      ]
     },
     "metadata": {},
     "output_type": "display_data"
    }
   ],
   "source": [
    "learn.show_results()"
   ]
  },
  {
   "cell_type": "code",
   "execution_count": null,
   "metadata": {},
   "outputs": [],
   "source": []
  }
 ],
 "metadata": {
  "kernelspec": {
   "display_name": "Python 3",
   "language": "python",
   "name": "python3"
  },
  "language_info": {
   "codemirror_mode": {
    "name": "ipython",
    "version": 3
   },
   "file_extension": ".py",
   "mimetype": "text/x-python",
   "name": "python",
   "nbconvert_exporter": "python",
   "pygments_lexer": "ipython3",
   "version": "3.7.3"
  }
 },
 "nbformat": 4,
 "nbformat_minor": 2
}
