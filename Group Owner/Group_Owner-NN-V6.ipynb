{
 "cells": [
  {
   "cell_type": "code",
   "execution_count": 1,
   "metadata": {},
   "outputs": [],
   "source": [
    "# https://scikit-learn.org/stable/tutorial/machine_learning_map/index.html\n",
    "# https://medium.com/datadriveninvestor/choosing-the-best-algorithm-for-your-classification-model-7c632c78f38f\n",
    "# https://scikit-learn.org/stable/auto_examples/classification/plot_classifier_comparison.html\n",
    "# https://www.dataquest.io/blog/sci-kit-learn-tutorial/\n",
    "# https://datascience.stackexchange.com/questions/33256/how-to-apply-machine-learning-model-to-new-dataset\n",
    "# https://speakerdeck.com/datasciencela/tianqi-chen-xgboost-overview-and-latest-news-la-meetup-talk?slide=33\n",
    "# https://github.com/ritvikkhanna09/Census-classifier-comparison/blob/master/NeuralNetworks.ipynb"
   ]
  },
  {
   "cell_type": "code",
   "execution_count": 24,
   "metadata": {},
   "outputs": [],
   "source": [
    "from fastai.tabular import *\n",
    "import os\n",
    "import pandas as pd \n",
    "import numpy as np\n",
    "from sklearn.metrics import accuracy_score, confusion_matrix\n",
    "from sklearn.ensemble import RandomForestClassifier\n",
    "from sklearn.naive_bayes import GaussianNB\n",
    "from sklearn.naive_bayes import ComplementNB\n",
    "from sklearn import svm, tree\n",
    "import xgboost\n",
    "from sklearn.model_selection import train_test_split\n",
    "from sklearn import preprocessing\n",
    "from sklearn.neighbors import KNeighborsClassifier\n",
    "\n",
    "from sklearn.linear_model import LogisticRegression\n",
    "from sklearn.linear_model import SGDClassifier\n",
    "from sklearn.kernel_approximation import RBFSampler\n",
    "\n",
    "\n",
    "from sklearn import model_selection\n",
    "from pandas.plotting import scatter_matrix\n",
    "import matplotlib.pyplot as plt\n",
    "\n",
    "from xgboost import plot_importance\n",
    "from xgboost import plot_tree\n",
    "import xgboost as xgb\n",
    "\n",
    "import pickle\n",
    "from sklearn.preprocessing import StandardScaler\n",
    "from sklearn.metrics import log_loss\n",
    "from sklearn.metrics import classification_report\n",
    "\n",
    "\n",
    "import keras\n",
    "from keras.models import Sequential\n",
    "from keras.layers import Dense, Dropout\n",
    "from keras.regularizers import l2"
   ]
  },
  {
   "cell_type": "code",
   "execution_count": 3,
   "metadata": {},
   "outputs": [],
   "source": [
    "path = Path('/Users/bbabu/fastai/DataSamples')"
   ]
  },
  {
   "cell_type": "markdown",
   "metadata": {},
   "source": [
    "data = pd.read_csv(path/'Output-5v5.csv', sep=',', header=0)\n",
    "df_test = pd.read_csv(path/'Output-5v5-Test.csv', sep=',', header=0)\n",
    "df_test_2 = pd.read_csv(path/'Output-5v5-Test.csv', sep=',', header=0)\n"
   ]
  },
  {
   "cell_type": "markdown",
   "metadata": {},
   "source": [
    "data.drop(['Description', 'Platform', 'BusinessGroup', 'Country'], axis=1, inplace=True)\n",
    "df_test.drop(['Description', 'Platform', 'BusinessGroup', 'Country'], axis=1, inplace=True)\n",
    "df_test_2.drop(['Description', 'Platform', 'BusinessGroup', 'Country'], axis=1, inplace=True)\n",
    "\n",
    "\n"
   ]
  },
  {
   "cell_type": "code",
   "execution_count": 4,
   "metadata": {},
   "outputs": [],
   "source": [
    "# df_test = pd.read_csv(path/'Test-Group-2.csv', sep=',', header=0)\n",
    "# df_test_2 = pd.read_csv(path/'Test-Group-2.csv', sep=',', header=0)"
   ]
  },
  {
   "cell_type": "code",
   "execution_count": 5,
   "metadata": {},
   "outputs": [],
   "source": [
    "# data = pd.read_csv(path/'Groups_with_Owners-V2.csv', sep=',', header=0)\n",
    "# df_test = pd.read_csv(path/'Groups_without_Owners-V2.csv', sep=',', header=0)\n",
    "# df_test_2 = pd.read_csv(path/'Groups_without_Owners-V2.csv', sep=',', header=0)"
   ]
  },
  {
   "cell_type": "code",
   "execution_count": 6,
   "metadata": {},
   "outputs": [],
   "source": [
    "data = pd.read_csv(path/'Groups_with_Owners-V1.csv', sep=';', header=0)\n",
    "df_test = pd.read_csv(path/'Groups_without_Owners-V1.csv', sep=';', header=0)\n",
    "df_test_2 = pd.read_csv(path/'Groups_without_Owners-V1.csv', sep=';', header=0)"
   ]
  },
  {
   "cell_type": "code",
   "execution_count": 7,
   "metadata": {},
   "outputs": [],
   "source": [
    "data.drop(['Description', 'MemberDN', 'State'], axis=1, inplace=True)\n",
    "df_test.drop(['Description', 'MemberDN', 'State', 'Owner'], axis=1, inplace=True)\n",
    "df_test_2.drop(['Description', 'MemberDN', 'State', 'Owner'], axis=1, inplace=True)"
   ]
  },
  {
   "cell_type": "code",
   "execution_count": 8,
   "metadata": {},
   "outputs": [],
   "source": [
    "# data.drop(['GroupCountry', 'GroupDomain', 'Domain'], axis=1, inplace=True)\n",
    "# df_test.drop(['GroupCountry', 'GroupDomain', 'Domain'], axis=1, inplace=True)\n",
    "# df_test_2.drop(['GroupCountry', 'GroupDomain', 'Domain'], axis=1, inplace=True)"
   ]
  },
  {
   "cell_type": "code",
   "execution_count": 9,
   "metadata": {},
   "outputs": [],
   "source": [
    "# data.drop(['GroupCountry'], axis=1, inplace=True)\n",
    "# df_test.drop(['GroupCountry'], axis=1, inplace=True)\n",
    "# df_test_2.drop(['GroupCountry'], axis=1, inplace=True)"
   ]
  },
  {
   "cell_type": "code",
   "execution_count": 10,
   "metadata": {},
   "outputs": [],
   "source": [
    "data.drop_duplicates(keep='first',inplace=True) \n",
    "df_test.drop_duplicates(keep='first',inplace=True)\n",
    "df_test_2.drop_duplicates(keep='first',inplace=True) "
   ]
  },
  {
   "cell_type": "code",
   "execution_count": 11,
   "metadata": {},
   "outputs": [],
   "source": [
    "# print(data.dtypes)\n",
    "# print(df_test.dtypes)\n",
    "# print(df_test_2.dtypes)"
   ]
  },
  {
   "cell_type": "code",
   "execution_count": 12,
   "metadata": {},
   "outputs": [],
   "source": [
    "le = preprocessing.LabelEncoder()\n",
    "categorical = list(data.select_dtypes(include=['object']).columns.values)\n",
    "for cat in categorical:\n",
    "    #print(cat)\n",
    "    data[cat].fillna('NaN', inplace=True)\n",
    "    data[cat] = le.fit_transform(data[cat].astype(str))\n"
   ]
  },
  {
   "cell_type": "code",
   "execution_count": 13,
   "metadata": {},
   "outputs": [],
   "source": [
    "le = preprocessing.LabelEncoder()\n",
    "\n",
    "categorical = list(df_test_2.select_dtypes(include=['object']).columns.values)\n",
    "for cat in categorical:\n",
    "    #print(cat)\n",
    "    df_test_2[cat].fillna('NaN', inplace=True)\n",
    "    df_test_2[cat] = le.fit_transform(df_test_2[cat].astype(str))\n"
   ]
  },
  {
   "cell_type": "code",
   "execution_count": 14,
   "metadata": {},
   "outputs": [],
   "source": [
    "# data.set_index('GroupDN', drop=False, inplace=True)"
   ]
  },
  {
   "cell_type": "code",
   "execution_count": 15,
   "metadata": {},
   "outputs": [],
   "source": [
    "#Create Dependent and Independent Datasets based on our Dependent #and Independent features\n",
    "# X = data[['GroupDN', 'Member', 'Manager', 'BusinessGroup', 'Platform', 'Title', 'Department', 'Country', 'City', 'GroupCountry', 'GroupDomain', 'Domain']]\n",
    "# X = data[['GroupDN', 'Member', 'Manager', 'BusinessGroup', 'Platform', 'Title', 'Department', 'Country', 'City', 'GroupDomain', 'Domain']].values\n",
    "X = data[['GroupDN', 'Member', 'Manager', 'BusinessGroup', 'Platform', 'Title', 'Department', 'Country', 'City']]\n",
    "y = data['Owner'].values\n",
    "#Split the Data into Training and Testing sets with test size as #33%\n",
    "X_train, X_test, y_train, y_test = train_test_split(X,y,test_size=0.33, shuffle=False)\n",
    "eval_set = [(X_train, y_train), (X_test, y_test)]"
   ]
  },
  {
   "cell_type": "code",
   "execution_count": 16,
   "metadata": {},
   "outputs": [],
   "source": [
    "sc = StandardScaler()\n",
    "X_train = sc.fit_transform(X_train)\n",
    "X_test = sc.transform(X_test)"
   ]
  },
  {
   "cell_type": "code",
   "execution_count": 17,
   "metadata": {},
   "outputs": [],
   "source": [
    "# X_train.values"
   ]
  },
  {
   "cell_type": "code",
   "execution_count": 18,
   "metadata": {},
   "outputs": [],
   "source": [
    "# data.reindex(columns=)"
   ]
  },
  {
   "cell_type": "code",
   "execution_count": 26,
   "metadata": {},
   "outputs": [
    {
     "name": "stderr",
     "output_type": "stream",
     "text": [
      "/Users/bbabu/anaconda3/lib/python3.7/site-packages/ipykernel_launcher.py:4: UserWarning: Update your `Dense` call to the Keras 2 API: `Dense(activation=\"relu\", input_dim=9, units=60, kernel_initializer=\"uniform\")`\n",
      "  after removing the cwd from sys.path.\n",
      "/Users/bbabu/anaconda3/lib/python3.7/site-packages/ipykernel_launcher.py:7: UserWarning: Update your `Dense` call to the Keras 2 API: `Dense(activation=\"relu\", units=60, kernel_initializer=\"uniform\")`\n",
      "  import sys\n",
      "/Users/bbabu/anaconda3/lib/python3.7/site-packages/ipykernel_launcher.py:10: UserWarning: Update your `Dense` call to the Keras 2 API: `Dense(activation=\"sigmoid\", units=1, kernel_initializer=\"uniform\")`\n",
      "  # Remove the CWD from sys.path while we load stuff.\n",
      "/Users/bbabu/anaconda3/lib/python3.7/site-packages/ipykernel_launcher.py:14: UserWarning: The `nb_epoch` argument in `fit` has been renamed `epochs`.\n",
      "  \n"
     ]
    },
    {
     "name": "stdout",
     "output_type": "stream",
     "text": [
      "Epoch 1/3\n",
      "860205/860205 [==============================] - 86s 100us/step - loss: 0.1072 - accuracy: 0.9763\n",
      "Epoch 2/3\n",
      "860205/860205 [==============================] - 87s 101us/step - loss: 0.1049 - accuracy: 0.9764\n",
      "Epoch 3/3\n",
      "860205/860205 [==============================] - 89s 104us/step - loss: 0.1041 - accuracy: 0.9764\n"
     ]
    },
    {
     "data": {
      "text/plain": [
       "<keras.callbacks.callbacks.History at 0x1a6b780518>"
      ]
     },
     "execution_count": 26,
     "metadata": {},
     "output_type": "execute_result"
    }
   ],
   "source": [
    "classifier = Sequential()\n",
    "\n",
    "# Adding the input layer and the first hidden layer\n",
    "classifier.add(Dense(output_dim = 100, init = 'uniform', activation = 'relu', input_dim = X_test.shape[1]))\n",
    "classifier.add(Dropout(0.1))\n",
    "# Adding the second hidden layer\n",
    "classifier.add(Dense(output_dim = 100, init = 'uniform', activation = 'relu'))\n",
    "classifier.add(Dropout(0.1))\n",
    "# Adding the output layer\n",
    "classifier.add(Dense(output_dim = 1, init = 'uniform', activation = 'sigmoid'))\n",
    "\n",
    "classifier.compile(optimizer = 'adam', loss = 'binary_crossentropy', metrics = ['accuracy'])\n",
    "                   \n",
    "classifier.fit(X_train, y_train, batch_size = 32, nb_epoch = 10, verbose = 1)\n"
   ]
  },
  {
   "cell_type": "code",
   "execution_count": 27,
   "metadata": {},
   "outputs": [
    {
     "name": "stdout",
     "output_type": "stream",
     "text": [
      "              precision    recall  f1-score   support\n",
      "\n",
      "           0       0.99      0.44      0.61    417516\n",
      "           1       0.02      0.79      0.04      6168\n",
      "\n",
      "    accuracy                           0.45    423684\n",
      "   macro avg       0.51      0.61      0.33    423684\n",
      "weighted avg       0.98      0.45      0.60    423684\n",
      "\n"
     ]
    }
   ],
   "source": [
    "y_pred = classifier.predict(X_test)\n",
    "y_pred = (y_pred > 0.02)\n",
    "\n",
    "\n",
    "print (classification_report(y_test, y_pred))\n",
    "cm = confusion_matrix(y_test, y_pred)\n",
    "\n",
    "# acc = accuracy_score(y_test, y_pred)\n",
    "# logloss = log_loss(y_test, y_pred)"
   ]
  },
  {
   "cell_type": "code",
   "execution_count": 28,
   "metadata": {},
   "outputs": [],
   "source": [
    "# Save model to disk\n",
    "filename = path/'Final_Model-NN.sav'\n",
    "pickle.dump(classifier, open(filename, 'wb'))"
   ]
  },
  {
   "cell_type": "code",
   "execution_count": 29,
   "metadata": {},
   "outputs": [],
   "source": [
    "# filename = path/'Final_Model-XGBooster-Saved.sav'"
   ]
  },
  {
   "cell_type": "code",
   "execution_count": 30,
   "metadata": {},
   "outputs": [],
   "source": [
    "# Load model from disk and use it to make new predictions\n",
    "loaded_model = pickle.load(open(filename, 'rb'))\n",
    "# result = loaded_model.score(X_test, y_test)\n",
    "# print(result)"
   ]
  },
  {
   "cell_type": "code",
   "execution_count": 31,
   "metadata": {},
   "outputs": [],
   "source": [
    "X_test = df_test_2.values\n",
    "loaded_model = pickle.load(open(filename, 'rb'))\n",
    "X_test = sc.transform(X_test)\n",
    "pred = loaded_model.predict(X_test)"
   ]
  },
  {
   "cell_type": "code",
   "execution_count": 32,
   "metadata": {},
   "outputs": [],
   "source": [
    "# print(pred.mean())"
   ]
  },
  {
   "cell_type": "code",
   "execution_count": 33,
   "metadata": {},
   "outputs": [],
   "source": [
    "# pred = (pred > 0.02).astype(int)"
   ]
  },
  {
   "cell_type": "code",
   "execution_count": 34,
   "metadata": {},
   "outputs": [],
   "source": [
    "# f_score = pd.Series(loaded_model.get_booster().get_fscore(),index=df_test_2.columns.values).sort_values(ascending=False)\n",
    "# print(f_score)\n"
   ]
  },
  {
   "cell_type": "code",
   "execution_count": 35,
   "metadata": {},
   "outputs": [],
   "source": [
    "# cover = pd.Series(loaded_model.get_booster().get_score(importance_type=\"cover\"),index=df_test_2.columns.values).sort_values(ascending=False)\n",
    "# print(cover)\n",
    "# gain = pd.Series(loaded_model.get_booster().get_score(importance_type=\"gain\"),index=df_test_2.columns.values).sort_values(ascending=False)\n",
    "# print(gain)"
   ]
  },
  {
   "cell_type": "code",
   "execution_count": 36,
   "metadata": {},
   "outputs": [],
   "source": [
    "# xgboost.plot_tree(loaded_model, rankdir='LR')\n",
    "# # plt.show()\n",
    "# fig = plt.gcf()\n",
    "# fig.set_size_inches(400, 300)\n",
    "# fig.savefig(path/'Tree.png')"
   ]
  },
  {
   "cell_type": "code",
   "execution_count": 37,
   "metadata": {},
   "outputs": [],
   "source": [
    "# plot_importance(model)\n",
    "# plt.show()"
   ]
  },
  {
   "cell_type": "code",
   "execution_count": 38,
   "metadata": {},
   "outputs": [],
   "source": [
    "# feature_imp = pd.Series(loaded_model.feature_importances_,index=df_test_2.columns.values).sort_values(ascending=False)"
   ]
  },
  {
   "cell_type": "code",
   "execution_count": 39,
   "metadata": {},
   "outputs": [],
   "source": [
    "#df_test['Member'] = le.inverse_transform(df_test['Member'])\n",
    "final_df = pd.DataFrame({'GroupDN': df_test['GroupDN'],'Member': df_test['Member'], 'Manager': df_test['Manager'], 'Owner': pred[:, 0]})"
   ]
  },
  {
   "cell_type": "code",
   "execution_count": 40,
   "metadata": {},
   "outputs": [],
   "source": [
    "final_df.to_csv(path/'MLProcessed1-NN.csv', header=True, index=False)"
   ]
  },
  {
   "cell_type": "code",
   "execution_count": 41,
   "metadata": {},
   "outputs": [],
   "source": [
    "grouped = final_df.groupby(['GroupDN'])"
   ]
  },
  {
   "cell_type": "code",
   "execution_count": 42,
   "metadata": {},
   "outputs": [],
   "source": [
    "i = 0\n",
    "for name, group in grouped:\n",
    "    if group['Owner'].sum() == 0:\n",
    "        i += 1\n",
    "        "
   ]
  },
  {
   "cell_type": "code",
   "execution_count": 43,
   "metadata": {},
   "outputs": [
    {
     "name": "stdout",
     "output_type": "stream",
     "text": [
      "Feature importance table is as follows:\n",
      "Total number of predicted owners are: 21311.967\n",
      "Ratio of owners are: 0.43526676872076875\n",
      "Mean of owners are: 0.023438314\n",
      "Total number of groups are: 48963\n",
      "Number of predicted groups with owners are: 48963\n"
     ]
    }
   ],
   "source": [
    "print(\"Feature importance table is as follows:\")\n",
    "# print(feature_imp.to_string())\n",
    "# print(pred)\n",
    "# print(\"Model accuracy is: %s\"%(acc))\n",
    "# print(\"Model logloss is: %s\"%(logloss))\n",
    "print(\"Total number of predicted owners are: %s\"%(pred.sum()))\n",
    "print(\"Ratio of owners are: %s\"%(pred.sum()/len(grouped)))\n",
    "print(\"Mean of owners are: %s\"%(pred.mean()))\n",
    "print(\"Total number of groups are: %s\"%(len(grouped)))\n",
    "print(\"Number of predicted groups with owners are: %s\"%(len(grouped) - i))\n",
    "# print(\"Confusion matrix of the model is: %s\"%(cm))"
   ]
  },
  {
   "cell_type": "code",
   "execution_count": 44,
   "metadata": {},
   "outputs": [],
   "source": [
    "# df_test_2.to_csv(path/'Encoded_without_Owners.csv', header=True, index=False)\n",
    "# data.to_csv(path/'Encoded_with_Owners.csv', header=True, index=False)"
   ]
  },
  {
   "cell_type": "code",
   "execution_count": 45,
   "metadata": {},
   "outputs": [
    {
     "name": "stdout",
     "output_type": "stream",
     "text": [
      "Model: \"sequential_5\"\n",
      "_________________________________________________________________\n",
      "Layer (type)                 Output Shape              Param #   \n",
      "=================================================================\n",
      "dense_4 (Dense)              (None, 60)                600       \n",
      "_________________________________________________________________\n",
      "dropout_1 (Dropout)          (None, 60)                0         \n",
      "_________________________________________________________________\n",
      "dense_5 (Dense)              (None, 60)                3660      \n",
      "_________________________________________________________________\n",
      "dropout_2 (Dropout)          (None, 60)                0         \n",
      "_________________________________________________________________\n",
      "dense_6 (Dense)              (None, 1)                 61        \n",
      "=================================================================\n",
      "Total params: 4,321\n",
      "Trainable params: 4,321\n",
      "Non-trainable params: 0\n",
      "_________________________________________________________________\n"
     ]
    }
   ],
   "source": [
    "classifier.summary()"
   ]
  },
  {
   "cell_type": "code",
   "execution_count": null,
   "metadata": {},
   "outputs": [],
   "source": []
  }
 ],
 "metadata": {
  "kernelspec": {
   "display_name": "Python 3",
   "language": "python",
   "name": "python3"
  },
  "language_info": {
   "codemirror_mode": {
    "name": "ipython",
    "version": 3
   },
   "file_extension": ".py",
   "mimetype": "text/x-python",
   "name": "python",
   "nbconvert_exporter": "python",
   "pygments_lexer": "ipython3",
   "version": "3.7.7"
  }
 },
 "nbformat": 4,
 "nbformat_minor": 2
}
