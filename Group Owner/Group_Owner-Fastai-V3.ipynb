{
 "cells": [
  {
   "cell_type": "code",
   "execution_count": 1,
   "metadata": {},
   "outputs": [],
   "source": [
    "from fastai.tabular import *\n",
    "import os\n",
    "from sklearn import preprocessing\n"
   ]
  },
  {
   "cell_type": "code",
   "execution_count": 2,
   "metadata": {},
   "outputs": [],
   "source": [
    "path = Path('/Users/bbabu/fastai/DataSamples')"
   ]
  },
  {
   "cell_type": "code",
   "execution_count": 3,
   "metadata": {},
   "outputs": [],
   "source": [
    "# df = pd.read_csv(path/'Output-5v2.csv', sep=',', header=0)\n",
    "\n",
    "# df_test = pd.read_csv(path/'Output-6-Test.csv', sep=',', header=0)\n",
    "\n",
    "#changed on 7th Oct\n",
    "df = pd.read_csv(path/'Output-5v5.csv', sep=',', header=0)\n",
    "df_test = pd.read_csv(path/'Output-5v5-Test.csv', sep=',', header=0)"
   ]
  },
  {
   "cell_type": "code",
   "execution_count": 4,
   "metadata": {},
   "outputs": [
    {
     "data": {
      "text/plain": [
       "GroupDN          object\n",
       "Member           object\n",
       "Manager          object\n",
       "BusinessGroup    object\n",
       "Platform         object\n",
       "Title            object\n",
       "Description      object\n",
       "Department       object\n",
       "Country          object\n",
       "City             object\n",
       "Owner            object\n",
       "dtype: object"
      ]
     },
     "execution_count": 4,
     "metadata": {},
     "output_type": "execute_result"
    }
   ],
   "source": [
    "# ?? df\n",
    "df.dtypes"
   ]
  },
  {
   "cell_type": "code",
   "execution_count": 5,
   "metadata": {},
   "outputs": [],
   "source": [
    "df.drop(['Description', 'Platform', 'BusinessGroup', 'Country'], axis=1, inplace=True)\n",
    "df_test.drop(['Description', 'Platform', 'BusinessGroup', 'Country'], axis=1, inplace=True)\n",
    "\n"
   ]
  },
  {
   "cell_type": "code",
   "execution_count": 6,
   "metadata": {},
   "outputs": [],
   "source": [
    "# df.set_index('GroupDN', inplace=True)\n",
    "# df_test.set_index('GroupDN', inplace=True)"
   ]
  },
  {
   "cell_type": "code",
   "execution_count": 7,
   "metadata": {},
   "outputs": [],
   "source": [
    "# df = df.groupby(by='GroupDN', as_index=False)\n",
    "# df_test = df_test.groupby(by='GroupDN', as_index=False)"
   ]
  },
  {
   "cell_type": "code",
   "execution_count": 8,
   "metadata": {},
   "outputs": [
    {
     "data": {
      "text/plain": [
       "GroupDN       object\n",
       "Member        object\n",
       "Manager       object\n",
       "Title         object\n",
       "Department    object\n",
       "City          object\n",
       "Owner         object\n",
       "dtype: object"
      ]
     },
     "execution_count": 8,
     "metadata": {},
     "output_type": "execute_result"
    }
   ],
   "source": [
    "df.dtypes"
   ]
  },
  {
   "cell_type": "code",
   "execution_count": 9,
   "metadata": {},
   "outputs": [],
   "source": [
    "# ?? df.apply"
   ]
  },
  {
   "cell_type": "code",
   "execution_count": 10,
   "metadata": {},
   "outputs": [
    {
     "data": {
      "text/html": [
       "<div>\n",
       "<style scoped>\n",
       "    .dataframe tbody tr th:only-of-type {\n",
       "        vertical-align: middle;\n",
       "    }\n",
       "\n",
       "    .dataframe tbody tr th {\n",
       "        vertical-align: top;\n",
       "    }\n",
       "\n",
       "    .dataframe thead th {\n",
       "        text-align: right;\n",
       "    }\n",
       "</style>\n",
       "<table border=\"1\" class=\"dataframe\">\n",
       "  <thead>\n",
       "    <tr style=\"text-align: right;\">\n",
       "      <th></th>\n",
       "      <th>GroupDN</th>\n",
       "      <th>Member</th>\n",
       "      <th>Manager</th>\n",
       "      <th>Title</th>\n",
       "      <th>Department</th>\n",
       "      <th>City</th>\n",
       "      <th>Owner</th>\n",
       "    </tr>\n",
       "  </thead>\n",
       "  <tbody>\n",
       "    <tr>\n",
       "      <td>0</td>\n",
       "      <td>CN=GTM GLOBAL USER,OU=UP Managed Groups,DC=Na,...</td>\n",
       "      <td>m603532</td>\n",
       "      <td>No</td>\n",
       "      <td>Senior Financial Planning and Analysis Analyst</td>\n",
       "      <td>FIBI Accounting &amp; Finance</td>\n",
       "      <td>MECHELEN</td>\n",
       "      <td>No</td>\n",
       "    </tr>\n",
       "    <tr>\n",
       "      <td>1</td>\n",
       "      <td>CN=GTM GLOBAL USER,OU=UP Managed Groups,DC=Na,...</td>\n",
       "      <td>j952466</td>\n",
       "      <td>No</td>\n",
       "      <td>Marketing &amp; Sales Analyst</td>\n",
       "      <td>FIBI GTM Marketing</td>\n",
       "      <td>WAYZATA</td>\n",
       "      <td>No</td>\n",
       "    </tr>\n",
       "    <tr>\n",
       "      <td>2</td>\n",
       "      <td>CN=GTM GLOBAL USER,OU=UP Managed Groups,DC=Na,...</td>\n",
       "      <td>a260306</td>\n",
       "      <td>No</td>\n",
       "      <td>Marketing &amp; Sales FP&amp;A Analyst</td>\n",
       "      <td>NaN</td>\n",
       "      <td>MECHELEN</td>\n",
       "      <td>No</td>\n",
       "    </tr>\n",
       "    <tr>\n",
       "      <td>3</td>\n",
       "      <td>CN=GTM GLOBAL USER,OU=UP Managed Groups,DC=Na,...</td>\n",
       "      <td>gbuts</td>\n",
       "      <td>No</td>\n",
       "      <td>Corporate Function</td>\n",
       "      <td>SO - D&amp;BI</td>\n",
       "      <td>Mechelen</td>\n",
       "      <td>No</td>\n",
       "    </tr>\n",
       "    <tr>\n",
       "      <td>4</td>\n",
       "      <td>CN=GTM GLOBAL USER,OU=UP Managed Groups,DC=Na,...</td>\n",
       "      <td>fschrove</td>\n",
       "      <td>No</td>\n",
       "      <td>Business Analyst</td>\n",
       "      <td>GIT Value Enablers D&amp;BI</td>\n",
       "      <td>MECHELEN</td>\n",
       "      <td>Yes</td>\n",
       "    </tr>\n",
       "  </tbody>\n",
       "</table>\n",
       "</div>"
      ],
      "text/plain": [
       "                                             GroupDN    Member Manager  \\\n",
       "0  CN=GTM GLOBAL USER,OU=UP Managed Groups,DC=Na,...   m603532      No   \n",
       "1  CN=GTM GLOBAL USER,OU=UP Managed Groups,DC=Na,...   j952466      No   \n",
       "2  CN=GTM GLOBAL USER,OU=UP Managed Groups,DC=Na,...   a260306      No   \n",
       "3  CN=GTM GLOBAL USER,OU=UP Managed Groups,DC=Na,...     gbuts      No   \n",
       "4  CN=GTM GLOBAL USER,OU=UP Managed Groups,DC=Na,...  fschrove      No   \n",
       "\n",
       "                                            Title                 Department  \\\n",
       "0  Senior Financial Planning and Analysis Analyst  FIBI Accounting & Finance   \n",
       "1                       Marketing & Sales Analyst         FIBI GTM Marketing   \n",
       "2                  Marketing & Sales FP&A Analyst                        NaN   \n",
       "3                              Corporate Function                  SO - D&BI   \n",
       "4                                Business Analyst    GIT Value Enablers D&BI   \n",
       "\n",
       "       City Owner  \n",
       "0  MECHELEN    No  \n",
       "1   WAYZATA    No  \n",
       "2  MECHELEN    No  \n",
       "3  Mechelen    No  \n",
       "4  MECHELEN   Yes  "
      ]
     },
     "execution_count": 10,
     "metadata": {},
     "output_type": "execute_result"
    }
   ],
   "source": [
    "df.head()"
   ]
  },
  {
   "cell_type": "code",
   "execution_count": 11,
   "metadata": {},
   "outputs": [],
   "source": [
    "# le = preprocessing.LabelEncoder()\n",
    "# categorical = list(df.select_dtypes(include=['object']).columns.values)\n",
    "# for cat in categorical:\n",
    "#     #print(cat)\n",
    "#     df[cat].fillna('N/A', inplace=True)\n",
    "#     df[cat] = le.fit_transform(df[cat].astype(str))\n",
    "\n",
    "# categorical = list(df_test.select_dtypes(include=['object']).columns.values)\n",
    "# for cat in categorical:\n",
    "#     #print(cat)\n",
    "#     df_test[cat].fillna('N/A', inplace=True)\n",
    "#     df_test[cat] = le.fit_transform(df_test[cat].astype(str))\n",
    "\n"
   ]
  },
  {
   "cell_type": "code",
   "execution_count": 12,
   "metadata": {},
   "outputs": [],
   "source": [
    "# dep_var = 'Owner'\n",
    "# cont_names = ['GroupDN', 'Member', 'Manager', 'BusinessGroup', 'Platform', 'Title', 'Description', 'Department', 'Country', 'City']\n",
    "# cat_names = []\n",
    "# valid_idx = range(len(df)-1000, len(df))\n",
    "# procs = [FillMissing, Categorify, Normalize]\n",
    "\n"
   ]
  },
  {
   "cell_type": "code",
   "execution_count": 13,
   "metadata": {},
   "outputs": [],
   "source": [
    "# data = (TabularList.from_df(df, path=path, cat_names=cat_names, cont_names=cont_names, procs=procs)\n",
    "#         #.split_by_idx(list(range(1,1000)))\n",
    "#         .split_by_idx(valid_idx)\n",
    "#         .label_from_df(cols=dep_var)\n",
    "#         .add_test(TabularList.from_df(df_test, cat_names=cat_names, cont_names=cont_names, procs=procs))\n",
    "#         .databunch())"
   ]
  },
  {
   "cell_type": "code",
   "execution_count": 14,
   "metadata": {},
   "outputs": [],
   "source": [
    "dep_var = 'Owner'\n",
    "#cat_names = ['GroupDN', 'Member', 'BusinessGroup', 'Platform', 'Title', 'Description', 'Department', 'Country', 'State', 'City']\n",
    "# cat_names = ['GroupDN', 'MemberDN', 'Member', 'Manager', 'BusinessGroup', 'Platform', 'Title', 'Description', 'Department', 'Country', 'State', 'City']\n",
    "# cat_names = ['GroupDN', 'Member', 'BusinessGroup', 'Platform', 'Title', 'Description', 'Department', 'Country', 'City']\n",
    "# cat_names = ['GroupDN', 'Member', 'Manager', 'BusinessGroup', 'Platform', 'Title', 'Department', 'Country', 'City']\n",
    "cat_names = [ 'Member', 'Manager', 'Title', 'Department', 'City']\n",
    "\n",
    "\n",
    "#cat_names = ['GroupDN', 'Member', 'BusinessGroup', 'Platform', 'Title', 'Department', 'Country', 'City']\n",
    "#cat_names = ['GroupDN', 'Member', 'BusinessGroup', 'Platform', 'Country', 'City']\n",
    "# cont_names = ['Manager']\n",
    "cont_names = []\n",
    "#txt_cols = ['Description']\n",
    "\n",
    "valid_idx = range(len(df)-1000, len(df))\n",
    "#print(valid_idx)\n",
    "\n",
    "procs = [FillMissing, Categorify, Normalize]"
   ]
  },
  {
   "cell_type": "code",
   "execution_count": 15,
   "metadata": {},
   "outputs": [],
   "source": [
    "#??TabularDataBunch.from_df"
   ]
  },
  {
   "cell_type": "code",
   "execution_count": 16,
   "metadata": {},
   "outputs": [],
   "source": [
    "data = (TabularList.from_df(df, path=path, cat_names=cat_names, cont_names=cont_names, procs=procs)\n",
    "        #.split_by_idx(list(range(1,1000)))\n",
    "        .split_by_idx(valid_idx)\n",
    "        .label_from_df(cols=dep_var)\n",
    "        .add_test(TabularList.from_df(df_test, cat_names=cat_names, cont_names=cont_names, procs=procs))\n",
    "        .databunch())"
   ]
  },
  {
   "cell_type": "code",
   "execution_count": 17,
   "metadata": {},
   "outputs": [],
   "source": [
    "#data = TabularDataBunch.from_df(path, df, dep_var, valid_idx=valid_idx, procs=procs, cat_names=cat_names, cont_names=cont_names)"
   ]
  },
  {
   "cell_type": "code",
   "execution_count": 18,
   "metadata": {},
   "outputs": [
    {
     "data": {
      "text/plain": [
       "['No', 'Yes']"
      ]
     },
     "execution_count": 18,
     "metadata": {},
     "output_type": "execute_result"
    }
   ],
   "source": [
    "data.classes"
   ]
  },
  {
   "cell_type": "code",
   "execution_count": 19,
   "metadata": {},
   "outputs": [],
   "source": [
    "#learn = tabular_learner(data, layers=[200,100], metrics=accuracy)\n",
    "#learn = tabular_learner(data, layers=[1000,500], metrics=dice)\n",
    "learn = tabular_learner(data, layers=[200,100], metrics=accuracy)"
   ]
  },
  {
   "cell_type": "code",
   "execution_count": 20,
   "metadata": {
    "scrolled": true
   },
   "outputs": [
    {
     "data": {
      "text/plain": [
       "TabularModel(\n",
       "  (embeds): ModuleList(\n",
       "    (0): Embedding(163, 28)\n",
       "    (1): Embedding(3, 3)\n",
       "    (2): Embedding(130, 24)\n",
       "    (3): Embedding(70, 17)\n",
       "    (4): Embedding(62, 16)\n",
       "  )\n",
       "  (emb_drop): Dropout(p=0.0, inplace=False)\n",
       "  (bn_cont): BatchNorm1d(0, eps=1e-05, momentum=0.1, affine=True, track_running_stats=True)\n",
       "  (layers): Sequential(\n",
       "    (0): Linear(in_features=88, out_features=200, bias=True)\n",
       "    (1): ReLU(inplace=True)\n",
       "    (2): BatchNorm1d(200, eps=1e-05, momentum=0.1, affine=True, track_running_stats=True)\n",
       "    (3): Linear(in_features=200, out_features=100, bias=True)\n",
       "    (4): ReLU(inplace=True)\n",
       "    (5): BatchNorm1d(100, eps=1e-05, momentum=0.1, affine=True, track_running_stats=True)\n",
       "    (6): Linear(in_features=100, out_features=2, bias=True)\n",
       "  )\n",
       ")"
      ]
     },
     "execution_count": 20,
     "metadata": {},
     "output_type": "execute_result"
    }
   ],
   "source": [
    "learn.model"
   ]
  },
  {
   "cell_type": "code",
   "execution_count": 21,
   "metadata": {
    "scrolled": true
   },
   "outputs": [
    {
     "data": {
      "text/html": [],
      "text/plain": [
       "<IPython.core.display.HTML object>"
      ]
     },
     "metadata": {},
     "output_type": "display_data"
    },
    {
     "name": "stdout",
     "output_type": "stream",
     "text": [
      "LR Finder is complete, type {learner_name}.recorder.plot() to see the graph.\n"
     ]
    },
    {
     "data": {
      "image/png": "[encoded data removed]",
      "text/plain": [
       "<Figure size 432x288 with 1 Axes>"
      ]
     },
     "metadata": {
      "needs_background": "light"
     },
     "output_type": "display_data"
    }
   ],
   "source": [
    "learn.lr_find()\n",
    "learn.recorder.plot()"
   ]
  },
  {
   "cell_type": "code",
   "execution_count": 22,
   "metadata": {
    "scrolled": true
   },
   "outputs": [],
   "source": [
    "#learn.fit(5, 1e-02)\n",
    "# wd = 0.2"
   ]
  },
  {
   "cell_type": "code",
   "execution_count": 23,
   "metadata": {},
   "outputs": [],
   "source": [
    "# lr = slice(1e-06,1e-01)"
   ]
  },
  {
   "cell_type": "code",
   "execution_count": 24,
   "metadata": {
    "scrolled": true
   },
   "outputs": [
    {
     "data": {
      "text/html": [
       "<table border=\"1\" class=\"dataframe\">\n",
       "  <thead>\n",
       "    <tr style=\"text-align: left;\">\n",
       "      <th>epoch</th>\n",
       "      <th>train_loss</th>\n",
       "      <th>valid_loss</th>\n",
       "      <th>accuracy</th>\n",
       "      <th>time</th>\n",
       "    </tr>\n",
       "  </thead>\n",
       "  <tbody>\n",
       "    <tr>\n",
       "      <td>0</td>\n",
       "      <td>0.728146</td>\n",
       "      <td>0.612836</td>\n",
       "      <td>0.973000</td>\n",
       "      <td>00:00</td>\n",
       "    </tr>\n",
       "    <tr>\n",
       "      <td>1</td>\n",
       "      <td>0.728539</td>\n",
       "      <td>0.578682</td>\n",
       "      <td>0.973000</td>\n",
       "      <td>00:00</td>\n",
       "    </tr>\n",
       "    <tr>\n",
       "      <td>2</td>\n",
       "      <td>0.686630</td>\n",
       "      <td>0.266139</td>\n",
       "      <td>0.973000</td>\n",
       "      <td>00:00</td>\n",
       "    </tr>\n",
       "    <tr>\n",
       "      <td>3</td>\n",
       "      <td>0.611346</td>\n",
       "      <td>0.128694</td>\n",
       "      <td>0.973000</td>\n",
       "      <td>00:00</td>\n",
       "    </tr>\n",
       "    <tr>\n",
       "      <td>4</td>\n",
       "      <td>0.490439</td>\n",
       "      <td>0.183971</td>\n",
       "      <td>0.973000</td>\n",
       "      <td>00:00</td>\n",
       "    </tr>\n",
       "    <tr>\n",
       "      <td>5</td>\n",
       "      <td>0.405535</td>\n",
       "      <td>0.304167</td>\n",
       "      <td>0.972000</td>\n",
       "      <td>00:00</td>\n",
       "    </tr>\n",
       "    <tr>\n",
       "      <td>6</td>\n",
       "      <td>0.370097</td>\n",
       "      <td>0.407856</td>\n",
       "      <td>0.971000</td>\n",
       "      <td>00:00</td>\n",
       "    </tr>\n",
       "    <tr>\n",
       "      <td>7</td>\n",
       "      <td>0.319211</td>\n",
       "      <td>0.459811</td>\n",
       "      <td>0.971000</td>\n",
       "      <td>00:00</td>\n",
       "    </tr>\n",
       "    <tr>\n",
       "      <td>8</td>\n",
       "      <td>0.277758</td>\n",
       "      <td>0.458568</td>\n",
       "      <td>0.971000</td>\n",
       "      <td>00:00</td>\n",
       "    </tr>\n",
       "    <tr>\n",
       "      <td>9</td>\n",
       "      <td>0.244714</td>\n",
       "      <td>0.437172</td>\n",
       "      <td>0.971000</td>\n",
       "      <td>00:00</td>\n",
       "    </tr>\n",
       "  </tbody>\n",
       "</table>"
      ],
      "text/plain": [
       "<IPython.core.display.HTML object>"
      ]
     },
     "metadata": {},
     "output_type": "display_data"
    }
   ],
   "source": [
    "learn.fit_one_cycle(10, 1e-01)"
   ]
  },
  {
   "cell_type": "code",
   "execution_count": 25,
   "metadata": {},
   "outputs": [
    {
     "data": {
      "text/plain": [
       "(Category Yes, tensor(1), tensor([1.1650e-09, 1.0000e+00]))"
      ]
     },
     "execution_count": 25,
     "metadata": {},
     "output_type": "execute_result"
    }
   ],
   "source": [
    "row = df.iloc[6]\n",
    "learn.predict(row)"
   ]
  },
  {
   "cell_type": "code",
   "execution_count": 26,
   "metadata": {
    "scrolled": true
   },
   "outputs": [
    {
     "data": {
      "image/png": "[encoded data removed]",
      "text/plain": [
       "<Figure size 432x288 with 1 Axes>"
      ]
     },
     "metadata": {
      "needs_background": "light"
     },
     "output_type": "display_data"
    }
   ],
   "source": [
    "learn.recorder.plot_losses()"
   ]
  },
  {
   "cell_type": "code",
   "execution_count": 27,
   "metadata": {},
   "outputs": [
    {
     "data": {
      "text/plain": [
       "[('Yes', 'No', 26), ('No', 'Yes', 3)]"
      ]
     },
     "execution_count": 27,
     "metadata": {},
     "output_type": "execute_result"
    },
    {
     "data": {
      "image/png": "[encoded data removed]",
      "text/plain": [
       "<Figure size 432x288 with 1 Axes>"
      ]
     },
     "metadata": {
      "needs_background": "light"
     },
     "output_type": "display_data"
    }
   ],
   "source": [
    "interp = ClassificationInterpretation.from_learner(learn)\n",
    "interp.plot_confusion_matrix()\n",
    "interp.most_confused()"
   ]
  },
  {
   "cell_type": "code",
   "execution_count": 28,
   "metadata": {},
   "outputs": [],
   "source": [
    "learn.export()"
   ]
  },
  {
   "cell_type": "code",
   "execution_count": 29,
   "metadata": {},
   "outputs": [],
   "source": [
    "#??learn.get_preds\n",
    "#??tabular_learner"
   ]
  },
  {
   "cell_type": "code",
   "execution_count": 30,
   "metadata": {},
   "outputs": [],
   "source": [
    "preds = learn.get_preds(ds_type=DatasetType.Test)[1].numpy()\n",
    "#preds = learn.get_preds(ds_type=DatasetType.Valid)[1].numpy()"
   ]
  },
  {
   "cell_type": "code",
   "execution_count": 31,
   "metadata": {},
   "outputs": [
    {
     "name": "stdout",
     "output_type": "stream",
     "text": [
      "[0 0 0 0 ... 0 0 0 0]\n"
     ]
    },
    {
     "data": {
      "text/plain": [
       "0"
      ]
     },
     "execution_count": 31,
     "metadata": {},
     "output_type": "execute_result"
    }
   ],
   "source": [
    "print(preds)\n",
    "preds.sum()"
   ]
  },
  {
   "cell_type": "code",
   "execution_count": 32,
   "metadata": {},
   "outputs": [],
   "source": [
    "final_df = pd.DataFrame({'GroupDN': df_test['GroupDN'],'Member': df_test['Member'], 'Manager': df_test['Manager'], 'Owner': preds})\n",
    "final_df.to_csv(path/'MLProcessed-Fastai.csv', header=True, index=False)"
   ]
  },
  {
   "cell_type": "code",
   "execution_count": 33,
   "metadata": {
    "scrolled": true
   },
   "outputs": [],
   "source": [
    "#learn.show_results()"
   ]
  },
  {
   "cell_type": "code",
   "execution_count": null,
   "metadata": {},
   "outputs": [],
   "source": []
  }
 ],
 "metadata": {
  "kernelspec": {
   "display_name": "Python 3",
   "language": "python",
   "name": "python3"
  },
  "language_info": {
   "codemirror_mode": {
    "name": "ipython",
    "version": 3
   },
   "file_extension": ".py",
   "mimetype": "text/x-python",
   "name": "python",
   "nbconvert_exporter": "python",
   "pygments_lexer": "ipython3",
   "version": "3.7.3"
  }
 },
 "nbformat": 4,
 "nbformat_minor": 2
}
